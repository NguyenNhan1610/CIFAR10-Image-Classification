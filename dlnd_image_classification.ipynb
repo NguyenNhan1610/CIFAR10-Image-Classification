{
 "cells": [
  {
   "cell_type": "markdown",
   "metadata": {
    "collapsed": true,
    "deletable": true,
    "editable": true
   },
   "source": [
    "# Image Classification\n",
    "In this project, you'll classify images from the [CIFAR-10 dataset](https://www.cs.toronto.edu/~kriz/cifar.html).  The dataset consists of airplanes, dogs, cats, and other objects. You'll preprocess the images, then train a convolutional neural network on all the samples. The images need to be normalized and the labels need to be one-hot encoded.  You'll get to apply what you learned and build a convolutional, max pooling, dropout, and fully connected layers.  At the end, you'll get to see your neural network's predictions on the sample images.\n",
    "## Get the Data\n",
    "Run the following cell to download the [CIFAR-10 dataset for python](https://www.cs.toronto.edu/~kriz/cifar-10-python.tar.gz)."
   ]
  },
  {
   "cell_type": "code",
   "execution_count": 1,
   "metadata": {
    "collapsed": false,
    "deletable": true,
    "editable": true
   },
   "outputs": [
    {
     "name": "stderr",
     "output_type": "stream",
     "text": [
      "CIFAR-10 Dataset: 171MB [01:03, 2.67MB/s]                               \n"
     ]
    },
    {
     "name": "stdout",
     "output_type": "stream",
     "text": [
      "All files found!\n"
     ]
    }
   ],
   "source": [
    "\"\"\"\n",
    "DON'T MODIFY ANYTHING IN THIS CELL THAT IS BELOW THIS LINE\n",
    "\"\"\"\n",
    "from urllib.request import urlretrieve\n",
    "from os.path import isfile, isdir\n",
    "from tqdm import tqdm\n",
    "import problem_unittests as tests\n",
    "import tarfile\n",
    "\n",
    "cifar10_dataset_folder_path = 'cifar-10-batches-py'\n",
    "\n",
    "class DLProgress(tqdm):\n",
    "    last_block = 0\n",
    "\n",
    "    def hook(self, block_num=1, block_size=1, total_size=None):\n",
    "        self.total = total_size\n",
    "        self.update((block_num - self.last_block) * block_size)\n",
    "        self.last_block = block_num\n",
    "\n",
    "if not isfile('cifar-10-python.tar.gz'):\n",
    "    with DLProgress(unit='B', unit_scale=True, miniters=1, desc='CIFAR-10 Dataset') as pbar:\n",
    "        urlretrieve(\n",
    "            'https://www.cs.toronto.edu/~kriz/cifar-10-python.tar.gz',\n",
    "            'cifar-10-python.tar.gz',\n",
    "            pbar.hook)\n",
    "\n",
    "if not isdir(cifar10_dataset_folder_path):\n",
    "    with tarfile.open('cifar-10-python.tar.gz') as tar:\n",
    "        tar.extractall()\n",
    "        tar.close()\n",
    "\n",
    "\n",
    "tests.test_folder_path(cifar10_dataset_folder_path)"
   ]
  },
  {
   "cell_type": "markdown",
   "metadata": {
    "deletable": true,
    "editable": true
   },
   "source": [
    "## Explore the Data\n",
    "The dataset is broken into batches to prevent your machine from running out of memory.  The CIFAR-10 dataset consists of 5 batches, named `data_batch_1`, `data_batch_2`, etc.. Each batch contains the labels and images that are one of the following:\n",
    "* airplane\n",
    "* automobile\n",
    "* bird\n",
    "* cat\n",
    "* deer\n",
    "* dog\n",
    "* frog\n",
    "* horse\n",
    "* ship\n",
    "* truck\n",
    "\n",
    "Understanding a dataset is part of making predictions on the data.  Play around with the code cell below by changing the `batch_id` and `sample_id`. The `batch_id` is the id for a batch (1-5). The `sample_id` is the id for a image and label pair in the batch.\n",
    "\n",
    "Ask yourself \"What are all possible labels?\", \"What is the range of values for the image data?\", \"Are the labels in order or random?\".  Answers to questions like these will help you preprocess the data and end up with better predictions."
   ]
  },
  {
   "cell_type": "code",
   "execution_count": 12,
   "metadata": {
    "collapsed": false,
    "deletable": true,
    "editable": true
   },
   "outputs": [
    {
     "name": "stdout",
     "output_type": "stream",
     "text": [
      "\n",
      "Stats of batch 5:\n",
      "Samples: 10000\n",
      "Label Counts: {0: 1014, 1: 1014, 2: 952, 3: 1016, 4: 997, 5: 1025, 6: 980, 7: 977, 8: 1003, 9: 1022}\n",
      "First 20 Labels: [1, 8, 5, 1, 5, 7, 4, 3, 8, 2, 7, 2, 0, 1, 5, 9, 6, 2, 0, 8]\n",
      "\n",
      "Example of Image 100:\n",
      "Image - Min Value: 5 Max Value: 255\n",
      "Image - Shape: (32, 32, 3)\n",
      "Label - Label Id: 9 Name: truck\n"
     ]
    },
    {
     "data": {
      "image/png": "[encoded data removed]",
      "text/plain": [
       "<matplotlib.figure.Figure at 0x7fa8eff59198>"
      ]
     },
     "metadata": {
      "image/png": {
       "height": 250,
       "width": 253
      }
     },
     "output_type": "display_data"
    }
   ],
   "source": [
    "%matplotlib inline\n",
    "%config InlineBackend.figure_format = 'retina'\n",
    "\n",
    "import helper\n",
    "import numpy as np\n",
    "\n",
    "# Explore the dataset\n",
    "batch_id = 5\n",
    "sample_id = 100\n",
    "helper.display_stats(cifar10_dataset_folder_path, batch_id, sample_id)"
   ]
  },
  {
   "cell_type": "markdown",
   "metadata": {
    "deletable": true,
    "editable": true
   },
   "source": [
    "## Implement Preprocess Functions\n",
    "### Normalize\n",
    "In the cell below, implement the `normalize` function to take in image data, `x`, and return it as a normalized Numpy array. The values should be in the range of 0 to 1, inclusive.  The return object should be the same shape as `x`."
   ]
  },
  {
   "cell_type": "code",
   "execution_count": 13,
   "metadata": {
    "collapsed": false,
    "deletable": true,
    "editable": true
   },
   "outputs": [
    {
     "name": "stdout",
     "output_type": "stream",
     "text": [
      "Tests Passed\n"
     ]
    }
   ],
   "source": [
    "def normalize(x):\n",
    "    \"\"\"\n",
    "    Normalize a list of sample image data in the range of 0 to 1\n",
    "    : x: List of image data.  The image shape is (32, 32, 3)\n",
    "    : return: Numpy array of normalize data\n",
    "    \"\"\"\n",
    "    min_value = 0\n",
    "    max_value = 255\n",
    "    normalized = np.array((x - min_value)/(max_value - min_value))\n",
    "    return normalized\n",
    "\n",
    "\n",
    "\"\"\"\n",
    "DON'T MODIFY ANYTHING IN THIS CELL THAT IS BELOW THIS LINE\n",
    "\"\"\"\n",
    "tests.test_normalize(normalize)"
   ]
  },
  {
   "cell_type": "markdown",
   "metadata": {
    "deletable": true,
    "editable": true
   },
   "source": [
    "### One-hot encode\n",
    "Just like the previous code cell, you'll be implementing a function for preprocessing.  This time, you'll implement the `one_hot_encode` function. The input, `x`, are a list of labels.  Implement the function to return the list of labels as One-Hot encoded Numpy array.  The possible values for labels are 0 to 9. The one-hot encoding function should return the same encoding for each value between each call to `one_hot_encode`.  Make sure to save the map of encodings outside the function.\n",
    "\n",
    "Hint: Don't reinvent the wheel."
   ]
  },
  {
   "cell_type": "code",
   "execution_count": 14,
   "metadata": {
    "collapsed": false,
    "deletable": true,
    "editable": true
   },
   "outputs": [
    {
     "name": "stdout",
     "output_type": "stream",
     "text": [
      "Tests Passed\n"
     ]
    }
   ],
   "source": [
    "def one_hot_encode(x):\n",
    "    \"\"\"\n",
    "    One hot encode a list of sample labels. Return a one-hot encoded vector for each label.\n",
    "    : x: List of sample Labels\n",
    "    : return: Numpy array of one-hot encoded labels\n",
    "    \"\"\"\n",
    "    # TODO: Implement Function\n",
    "    labels = 10\n",
    "    one_hot_encoded = np.eye(labels)[x]\n",
    "    return one_hot_encoded\n",
    "\n",
    "\n",
    "\"\"\"\n",
    "DON'T MODIFY ANYTHING IN THIS CELL THAT IS BELOW THIS LINE\n",
    "\"\"\"\n",
    "tests.test_one_hot_encode(one_hot_encode)"
   ]
  },
  {
   "cell_type": "markdown",
   "metadata": {
    "deletable": true,
    "editable": true
   },
   "source": [
    "### Randomize Data\n",
    "As you saw from exploring the data above, the order of the samples are randomized.  It doesn't hurt to randomize it again, but you don't need to for this dataset."
   ]
  },
  {
   "cell_type": "markdown",
   "metadata": {
    "deletable": true,
    "editable": true
   },
   "source": [
    "## Preprocess all the data and save it\n",
    "Running the code cell below will preprocess all the CIFAR-10 data and save it to file. The code below also uses 10% of the training data for validation."
   ]
  },
  {
   "cell_type": "code",
   "execution_count": 15,
   "metadata": {
    "collapsed": false,
    "deletable": true,
    "editable": true
   },
   "outputs": [],
   "source": [
    "\"\"\"\n",
    "DON'T MODIFY ANYTHING IN THIS CELL\n",
    "\"\"\"\n",
    "# Preprocess Training, Validation, and Testing Data\n",
    "helper.preprocess_and_save_data(cifar10_dataset_folder_path, normalize, one_hot_encode)"
   ]
  },
  {
   "cell_type": "markdown",
   "metadata": {
    "deletable": true,
    "editable": true
   },
   "source": [
    "# Check Point\n",
    "This is your first checkpoint.  If you ever decide to come back to this notebook or have to restart the notebook, you can start from here.  The preprocessed data has been saved to disk."
   ]
  },
  {
   "cell_type": "code",
   "execution_count": 17,
   "metadata": {
    "collapsed": true,
    "deletable": true,
    "editable": true
   },
   "outputs": [],
   "source": [
    "\"\"\"\n",
    "DON'T MODIFY ANYTHING IN THIS CELL\n",
    "\"\"\"\n",
    "import pickle\n",
    "import problem_unittests as tests\n",
    "import helper\n",
    "\n",
    "# Load the Preprocessed Validation data\n",
    "valid_features, valid_labels = pickle.load(open('preprocess_validation.p', mode='rb'))"
   ]
  },
  {
   "cell_type": "markdown",
   "metadata": {
    "deletable": true,
    "editable": true
   },
   "source": [
    "## Build the network\n",
    "For the neural network, you'll build each layer into a function.  Most of the code you've seen has been outside of functions. To test your code more thoroughly, we require that you put each layer in a function.  This allows us to give you better feedback and test for simple mistakes using our unittests before you submit your project.\n",
    "\n",
    ">**Note:** If you're finding it hard to dedicate enough time for this course each week, we've provided a small shortcut to this part of the project. In the next couple of problems, you'll have the option to use classes from the [TensorFlow Layers](https://www.tensorflow.org/api_docs/python/tf/layers) or [TensorFlow Layers (contrib)](https://www.tensorflow.org/api_guides/python/contrib.layers) packages to build each layer, except the layers you build in the \"Convolutional and Max Pooling Layer\" section.  TF Layers is similar to Keras's and TFLearn's abstraction to layers, so it's easy to pickup.\n",
    "\n",
    ">However, if you would like to get the most out of this course, try to solve all the problems _without_ using anything from the TF Layers packages. You **can** still use classes from other packages that happen to have the same name as ones you find in TF Layers! For example, instead of using the TF Layers version of the `conv2d` class, [tf.layers.conv2d](https://www.tensorflow.org/api_docs/python/tf/layers/conv2d), you would want to use the TF Neural Network version of `conv2d`, [tf.nn.conv2d](https://www.tensorflow.org/api_docs/python/tf/nn/conv2d). \n",
    "\n",
    "Let's begin!\n",
    "\n",
    "### Input\n",
    "The neural network needs to read the image data, one-hot encoded labels, and dropout keep probability. Implement the following functions\n",
    "* Implement `neural_net_image_input`\n",
    " * Return a [TF Placeholder](https://www.tensorflow.org/api_docs/python/tf/placeholder)\n",
    " * Set the shape using `image_shape` with batch size set to `None`.\n",
    " * Name the TensorFlow placeholder \"x\" using the TensorFlow `name` parameter in the [TF Placeholder](https://www.tensorflow.org/api_docs/python/tf/placeholder).\n",
    "* Implement `neural_net_label_input`\n",
    " * Return a [TF Placeholder](https://www.tensorflow.org/api_docs/python/tf/placeholder)\n",
    " * Set the shape using `n_classes` with batch size set to `None`.\n",
    " * Name the TensorFlow placeholder \"y\" using the TensorFlow `name` parameter in the [TF Placeholder](https://www.tensorflow.org/api_docs/python/tf/placeholder).\n",
    "* Implement `neural_net_keep_prob_input`\n",
    " * Return a [TF Placeholder](https://www.tensorflow.org/api_docs/python/tf/placeholder) for dropout keep probability.\n",
    " * Name the TensorFlow placeholder \"keep_prob\" using the TensorFlow `name` parameter in the [TF Placeholder](https://www.tensorflow.org/api_docs/python/tf/placeholder).\n",
    "\n",
    "These names will be used at the end of the project to load your saved model.\n",
    "\n",
    "Note: `None` for shapes in TensorFlow allow for a dynamic size."
   ]
  },
  {
   "cell_type": "code",
   "execution_count": 22,
   "metadata": {
    "collapsed": false,
    "deletable": true,
    "editable": true
   },
   "outputs": [
    {
     "name": "stdout",
     "output_type": "stream",
     "text": [
      "Image Input Tests Passed.\n",
      "Label Input Tests Passed.\n",
      "Keep Prob Tests Passed.\n"
     ]
    }
   ],
   "source": [
    "import tensorflow as tf\n",
    "\n",
    "def neural_net_image_input(image_shape):\n",
    "    \"\"\"\n",
    "    Return a Tensor for a bach of image input\n",
    "    : image_shape: Shape of the images\n",
    "    : return: Tensor for image input.\n",
    "    \"\"\"\n",
    "    return tf.placeholder(tf.float32, shape = [None, image_shape[0], image_shape[1], image_shape[2]], name = \"x\")\n",
    "\n",
    "\n",
    "def neural_net_label_input(n_classes):\n",
    "    \"\"\"\n",
    "    Return a Tensor for a batch of label input\n",
    "    : n_classes: Number of classes\n",
    "    : return: Tensor for label input.\n",
    "    \"\"\"\n",
    "    return tf.placeholder(tf.float32, shape = [None, n_classes], name = \"y\")\n",
    "    \n",
    "\n",
    "def neural_net_keep_prob_input():\n",
    "    \"\"\"\n",
    "    Return a Tensor for keep probability\n",
    "    : return: Tensor for keep probability.\n",
    "    \"\"\"\n",
    "\n",
    "    return tf.placeholder(tf.float32, name = \"keep_prob\")\n",
    "\n",
    "\n",
    "\"\"\"\n",
    "DON'T MODIFY ANYTHING IN THIS CELL THAT IS BELOW THIS LINE\n",
    "\"\"\"\n",
    "tf.reset_default_graph()\n",
    "tests.test_nn_image_inputs(neural_net_image_input)\n",
    "tests.test_nn_label_inputs(neural_net_label_input)\n",
    "tests.test_nn_keep_prob_inputs(neural_net_keep_prob_input)"
   ]
  },
  {
   "cell_type": "markdown",
   "metadata": {
    "deletable": true,
    "editable": true
   },
   "source": [
    "### Convolution and Max Pooling Layer\n",
    "Convolution layers have a lot of success with images. For this code cell, you should implement the function `conv2d_maxpool` to apply convolution then max pooling:\n",
    "* Create the weight and bias using `conv_ksize`, `conv_num_outputs` and the shape of `x_tensor`.\n",
    "* Apply a convolution to `x_tensor` using weight and `conv_strides`.\n",
    " * We recommend you use same padding, but you're welcome to use any padding.\n",
    "* Add bias\n",
    "* Add a nonlinear activation to the convolution.\n",
    "* Apply Max Pooling using `pool_ksize` and `pool_strides`.\n",
    " * We recommend you use same padding, but you're welcome to use any padding.\n",
    "\n",
    "**Note:** You **can't** use [TensorFlow Layers](https://www.tensorflow.org/api_docs/python/tf/layers) or [TensorFlow Layers (contrib)](https://www.tensorflow.org/api_guides/python/contrib.layers) for **this** layer, but you can still use TensorFlow's [Neural Network](https://www.tensorflow.org/api_docs/python/tf/nn) package. You may still use the shortcut option for all the **other** layers."
   ]
  },
  {
   "cell_type": "code",
   "execution_count": 96,
   "metadata": {
    "collapsed": false,
    "deletable": true,
    "editable": true
   },
   "outputs": [
    {
     "name": "stdout",
     "output_type": "stream",
     "text": [
      "Tests Passed\n"
     ]
    }
   ],
   "source": [
    "def conv2d_maxpool(x_tensor, conv_num_outputs, conv_ksize, conv_strides, pool_ksize, pool_strides):\n",
    "    \"\"\"\n",
    "    Apply convolution then max pooling to x_tensor\n",
    "    :param x_tensor: TensorFlow Tensor\n",
    "    :param conv_num_outputs: Number of outputs for the convolutional layer\n",
    "    :param conv_ksize: kernal size 2-D Tuple for the convolutional layer\n",
    "    :param conv_strides: Stride 2-D Tuple for convolution\n",
    "    :param pool_ksize: kernal size 2-D Tuple for pool\n",
    "    :param pool_strides: Stride 2-D Tuple for pool\n",
    "    : return: A tensor that represents convolution and max pooling of x_tensor\n",
    "    \"\"\"\n",
    "    \n",
    "    filter_size_height = conv_ksize[0] # 2\n",
    "    filter_size_width = conv_ksize[1]  # 2\n",
    "    color_channels = int(x_tensor.shape[3]) # 5\n",
    "    k_output = conv_num_outputs        # 10\n",
    "    \n",
    "    weight = tf.Variable(tf.truncated_normal([filter_size_height ,filter_size_width ,color_channels , k_output], stddev=0.1))\n",
    "    bias = tf.Variable(tf.zeros(k_output))\n",
    "    \n",
    "    conv_pool = tf.nn.conv2d(x_tensor, weight, strides = [1, conv_strides[0], conv_strides[1], 1], padding = \"SAME\")\n",
    "    conv_pool = tf.nn.bias_add(conv_pool, bias)\n",
    "    conv_pool = tf.nn.relu(conv_pool)\n",
    "    \n",
    "    conv_pool = tf.nn.max_pool(conv_pool,\n",
    "                               ksize = [1, pool_ksize[0], pool_ksize[1], 1],\n",
    "                               strides = [1, pool_strides[0], pool_strides[1], 1],\n",
    "                               padding = \"SAME\")\n",
    "    return conv_pool \n",
    "\n",
    "\n",
    "\"\"\"\n",
    "DON'T MODIFY ANYTHING IN THIS CELL THAT IS BELOW THIS LINE\n",
    "\"\"\"\n",
    "tests.test_con_pool(conv2d_maxpool)"
   ]
  },
  {
   "cell_type": "markdown",
   "metadata": {
    "deletable": true,
    "editable": true
   },
   "source": [
    "### Flatten Layer\n",
    "Implement the `flatten` function to change the dimension of `x_tensor` from a 4-D tensor to a 2-D tensor.  The output should be the shape (*Batch Size*, *Flattened Image Size*). Shortcut option: you can use classes from the [TensorFlow Layers](https://www.tensorflow.org/api_docs/python/tf/layers) or [TensorFlow Layers (contrib)](https://www.tensorflow.org/api_guides/python/contrib.layers) packages for this layer. For more of a challenge, only use other TensorFlow packages."
   ]
  },
  {
   "cell_type": "code",
   "execution_count": 53,
   "metadata": {
    "collapsed": false,
    "deletable": true,
    "editable": true
   },
   "outputs": [
    {
     "name": "stdout",
     "output_type": "stream",
     "text": [
      "Tests Passed\n"
     ]
    }
   ],
   "source": [
    "def flatten(x_tensor):\n",
    "    \"\"\"\n",
    "    Flatten x_tensor to (Batch Size, Flattened Image Size)\n",
    "    : x_tensor: A tensor of size (Batch Size, ...), where ... are the image dimensions.\n",
    "    : return: A tensor of size (Batch Size, Flattened Image Size).\n",
    "    \"\"\"\n",
    "    #tf.reshape(x_tensor, [-1, x_tensor.get_shape.as_list()[1] * x_tensor.get_shape.as_list()[2] * x_tensor.get_shape.as_list()[3]])\n",
    "    return tf.contrib.layers.flatten(x_tensor)\n",
    "\n",
    "\"\"\"\n",
    "DON'T MODIFY ANYTHING IN THIS CELL THAT IS BELOW THIS LINE\n",
    "\"\"\"\n",
    "tests.test_flatten(flatten)"
   ]
  },
  {
   "cell_type": "markdown",
   "metadata": {
    "deletable": true,
    "editable": true
   },
   "source": [
    "### Fully-Connected Layer\n",
    "Implement the `fully_conn` function to apply a fully connected layer to `x_tensor` with the shape (*Batch Size*, *num_outputs*). Shortcut option: you can use classes from the [TensorFlow Layers](https://www.tensorflow.org/api_docs/python/tf/layers) or [TensorFlow Layers (contrib)](https://www.tensorflow.org/api_guides/python/contrib.layers) packages for this layer. For more of a challenge, only use other TensorFlow packages."
   ]
  },
  {
   "cell_type": "code",
   "execution_count": 95,
   "metadata": {
    "collapsed": false,
    "deletable": true,
    "editable": true
   },
   "outputs": [
    {
     "name": "stdout",
     "output_type": "stream",
     "text": [
      "Tests Passed\n"
     ]
    }
   ],
   "source": [
    "def fully_conn(x_tensor, num_outputs):\n",
    "    \"\"\"\n",
    "    Apply a fully connected layer to x_tensor using weight and bias\n",
    "    : x_tensor: A 2-D tensor where the first dimension is batch size.\n",
    "    : num_outputs: The number of output that the new tensor should be.\n",
    "    : return: A 2-D tensor where the second dimension is num_outputs.\n",
    "    \"\"\"\n",
    "    # return tf.layers.dense(inputs=x_tensor, units=num_outputs, activation=tf.nn.relu)\n",
    "    # return tf.contrib.layers.fully_connected(x_tensor,num_outputs)\n",
    "\n",
    "    weight = tf.Variable(tf.truncated_normal([x_tensor.get_shape().as_list()[1], num_outputs], stddev=0.1))\n",
    "    bias = tf.Variable(np.zeros(num_outputs), dtype=\"float32\")\n",
    "    \n",
    "    full = tf.add(tf.matmul(x_tensor, weight), bias)\n",
    "    full_conn = tf.nn.relu(full)\n",
    "    return full_conn\n",
    "\n",
    "\n",
    "\"\"\"\n",
    "DON'T MODIFY ANYTHING IN THIS CELL THAT IS BELOW THIS LINE\n",
    "\"\"\"\n",
    "tests.test_fully_conn(fully_conn)"
   ]
  },
  {
   "cell_type": "markdown",
   "metadata": {
    "deletable": true,
    "editable": true
   },
   "source": [
    "### Output Layer\n",
    "Implement the `output` function to apply a fully connected layer to `x_tensor` with the shape (*Batch Size*, *num_outputs*). Shortcut option: you can use classes from the [TensorFlow Layers](https://www.tensorflow.org/api_docs/python/tf/layers) or [TensorFlow Layers (contrib)](https://www.tensorflow.org/api_guides/python/contrib.layers) packages for this layer. For more of a challenge, only use other TensorFlow packages.\n",
    "\n",
    "**Note:** Activation, softmax, or cross entropy should **not** be applied to this."
   ]
  },
  {
   "cell_type": "code",
   "execution_count": 94,
   "metadata": {
    "collapsed": false,
    "deletable": true,
    "editable": true
   },
   "outputs": [
    {
     "name": "stdout",
     "output_type": "stream",
     "text": [
      "Tests Passed\n"
     ]
    }
   ],
   "source": [
    "def output(x_tensor, num_outputs):\n",
    "    \"\"\"\n",
    "    Apply a output layer to x_tensor using weight and bias\n",
    "    : x_tensor: A 2-D tensor where the first dimension is batch size.\n",
    "    : num_outputs: The number of output that the new tensor should be.\n",
    "    : return: A 2-D tensor where the second dimension is num_outputs.\n",
    "    \"\"\"\n",
    "    # return tf.contrib.layers.fully_connected(x_tensor,num_outputs)\n",
    "    \n",
    "    weight = tf.Variable(tf.truncated_normal([(int(x_tensor.shape[1])), num_outputs], stddev=0.1))\n",
    "    bias = tf.Variable(tf.zeros(num_outputs))\n",
    "    \n",
    "    out = tf.add(tf.matmul(x_tensor, weight), bias)\n",
    "    return out\n",
    "\n",
    "\n",
    "\"\"\"\n",
    "DON'T MODIFY ANYTHING IN THIS CELL THAT IS BELOW THIS LINE\n",
    "\"\"\"\n",
    "tests.test_output(output)"
   ]
  },
  {
   "cell_type": "markdown",
   "metadata": {
    "deletable": true,
    "editable": true
   },
   "source": [
    "### Create Convolutional Model\n",
    "Implement the function `conv_net` to create a convolutional neural network model. The function takes in a batch of images, `x`, and outputs logits.  Use the layers you created above to create this model:\n",
    "\n",
    "* Apply 1, 2, or 3 Convolution and Max Pool layers\n",
    "* Apply a Flatten Layer\n",
    "* Apply 1, 2, or 3 Fully Connected Layers\n",
    "* Apply an Output Layer\n",
    "* Return the output\n",
    "* Apply [TensorFlow's Dropout](https://www.tensorflow.org/api_docs/python/tf/nn/dropout) to one or more layers in the model using `keep_prob`. "
   ]
  },
  {
   "cell_type": "code",
   "execution_count": 98,
   "metadata": {
    "collapsed": false,
    "deletable": true,
    "editable": true
   },
   "outputs": [
    {
     "name": "stdout",
     "output_type": "stream",
     "text": [
      "Neural Network Built!\n"
     ]
    }
   ],
   "source": [
    "def conv_net(x, keep_prob):\n",
    "    \"\"\"\n",
    "    Create a convolutional neural network model\n",
    "    : x: Placeholder tensor that holds image data.\n",
    "    : keep_prob: Placeholder tensor that hold dropout keep probability.\n",
    "    : return: Tensor that represents logits\n",
    "    \"\"\"\n",
    "    # TODO: Apply 1, 2, or 3 Convolution and Max Pool layers\n",
    "    #    Play around with different number of outputs, kernel size and stride\n",
    "    # Function Definition from Above:\n",
    "    #    conv2d_maxpool(x_tensor, conv_num_outputs, conv_ksize, conv_strides, pool_ksize, pool_strides)\n",
    "    result = conv2d_maxpool(x, 128,[2,2], [2,2], [2,2], [2,2])\n",
    "    result = conv2d_maxpool(result, 256,[2,2], [2,2], [2,2], [2,2])\n",
    "    result = conv2d_maxpool(result, 512,[2,2], [1,1], [2,2], [2,2])\n",
    "\n",
    "    # TODO: Apply a Flatten Layer\n",
    "    # Function Definition from Above:\n",
    "    #   flatten(x_tensor)\n",
    "    result = flatten(result)\n",
    "\n",
    "    # TODO: Apply 1, 2, or 3 Fully Connected Layers\n",
    "    #    Play around with different number of outputs\n",
    "    # Function Definition from Above:\n",
    "    #   fully_conn(x_tensor, num_outputs)\n",
    "    result = fully_conn(result, 512)\n",
    "    result = tf.nn.dropout(result, keep_prob)\n",
    "    \n",
    "    result = fully_conn(result, 512)\n",
    "    result = tf.nn.dropout(result, keep_prob)\n",
    "    \n",
    "    # TODO: Apply an Output Layer\n",
    "    #    Set this to the number of classes\n",
    "    # Function Definition from Above:\n",
    "    #   output(x_tensor, num_outputs)\n",
    "    result = output(result, 10)\n",
    "    \n",
    "    # TODO: return output\n",
    "    return result\n",
    "\n",
    "\n",
    "\"\"\"\n",
    "DON'T MODIFY ANYTHING IN THIS CELL THAT IS BELOW THIS LINE\n",
    "\"\"\"\n",
    "\n",
    "##############################\n",
    "## Build the Neural Network ##\n",
    "##############################\n",
    "\n",
    "# Remove previous weights, bias, inputs, etc..\n",
    "tf.reset_default_graph()\n",
    "\n",
    "# Inputs\n",
    "x = neural_net_image_input((32, 32, 3))\n",
    "y = neural_net_label_input(10)\n",
    "keep_prob = neural_net_keep_prob_input()\n",
    "\n",
    "# Model\n",
    "logits = conv_net(x, keep_prob)\n",
    "\n",
    "# Name logits Tensor, so that is can be loaded from disk after training\n",
    "logits = tf.identity(logits, name='logits')\n",
    "\n",
    "# Loss and Optimizer\n",
    "cost = tf.reduce_mean(tf.nn.softmax_cross_entropy_with_logits(logits=logits, labels=y))\n",
    "optimizer = tf.train.AdamOptimizer().minimize(cost)\n",
    "\n",
    "# Accuracy\n",
    "correct_pred = tf.equal(tf.argmax(logits, 1), tf.argmax(y, 1))\n",
    "accuracy = tf.reduce_mean(tf.cast(correct_pred, tf.float32), name='accuracy')\n",
    "\n",
    "tests.test_conv_net(conv_net)"
   ]
  },
  {
   "cell_type": "markdown",
   "metadata": {
    "deletable": true,
    "editable": true
   },
   "source": [
    "## Train the Neural Network\n",
    "### Single Optimization\n",
    "Implement the function `train_neural_network` to do a single optimization.  The optimization should use `optimizer` to optimize in `session` with a `feed_dict` of the following:\n",
    "* `x` for image input\n",
    "* `y` for labels\n",
    "* `keep_prob` for keep probability for dropout\n",
    "\n",
    "This function will be called for each batch, so `tf.global_variables_initializer()` has already been called.\n",
    "\n",
    "Note: Nothing needs to be returned. This function is only optimizing the neural network."
   ]
  },
  {
   "cell_type": "code",
   "execution_count": 99,
   "metadata": {
    "collapsed": false,
    "deletable": true,
    "editable": true
   },
   "outputs": [
    {
     "name": "stdout",
     "output_type": "stream",
     "text": [
      "Tests Passed\n"
     ]
    }
   ],
   "source": [
    "def train_neural_network(session, optimizer, keep_probability, feature_batch, label_batch):\n",
    "    \"\"\"\n",
    "    Optimize the session on a batch of images and labels\n",
    "    : session: Current TensorFlow session\n",
    "    : optimizer: TensorFlow optimizer function\n",
    "    : keep_probability: keep probability\n",
    "    : feature_batch: Batch of Numpy image data\n",
    "    : label_batch: Batch of Numpy label data\n",
    "    \"\"\"\n",
    "    session.run(optimizer, feed_dict= {x: feature_batch, y: label_batch, keep_prob: keep_probability})\n",
    "\n",
    "\n",
    "\"\"\"\n",
    "DON'T MODIFY ANYTHING IN THIS CELL THAT IS BELOW THIS LINE\n",
    "\"\"\"\n",
    "tests.test_train_nn(train_neural_network)"
   ]
  },
  {
   "cell_type": "markdown",
   "metadata": {
    "deletable": true,
    "editable": true
   },
   "source": [
    "### Show Stats\n",
    "Implement the function `print_stats` to print loss and validation accuracy.  Use the global variables `valid_features` and `valid_labels` to calculate validation accuracy.  Use a keep probability of `1.0` to calculate the loss and validation accuracy."
   ]
  },
  {
   "cell_type": "code",
   "execution_count": 102,
   "metadata": {
    "collapsed": false,
    "deletable": true,
    "editable": true
   },
   "outputs": [],
   "source": [
    "def print_stats(session, feature_batch, label_batch, cost, accuracy):\n",
    "    \"\"\"\n",
    "    Print information about loss and validation accuracy\n",
    "    : session: Current TensorFlow session\n",
    "    : feature_batch: Batch of Numpy image data\n",
    "    : label_batch: Batch of Numpy label data\n",
    "    : cost: TensorFlow cost function\n",
    "    : accuracy: TensorFlow accuracy function\n",
    "    \"\"\"\n",
    "    test_loss = session.run(cost, feed_dict = {x:feature_batch, y: label_batch, keep_prob:1})\n",
    "    test_accuracy = session.run(accuracy, feed_dict = {x:valid_features, y: valid_labels, keep_prob:1})\n",
    "    \n",
    "    print('Loss: {:>6.4f} Validation Accuracy: {:.4f}'.format(test_loss, test_accuracy))"
   ]
  },
  {
   "cell_type": "markdown",
   "metadata": {
    "deletable": true,
    "editable": true
   },
   "source": [
    "### Hyperparameters\n",
    "Tune the following parameters:\n",
    "* Set `epochs` to the number of iterations until the network stops learning or start overfitting\n",
    "* Set `batch_size` to the highest number that your machine has memory for.  Most people set them to common sizes of memory:\n",
    " * 64\n",
    " * 128\n",
    " * 256\n",
    " * ...\n",
    "* Set `keep_probability` to the probability of keeping a node using dropout"
   ]
  },
  {
   "cell_type": "code",
   "execution_count": 103,
   "metadata": {
    "collapsed": true,
    "deletable": true,
    "editable": true
   },
   "outputs": [],
   "source": [
    "# TODO: Tune Parameters\n",
    "epochs = 100\n",
    "batch_size = 128\n",
    "keep_probability = 0.5"
   ]
  },
  {
   "cell_type": "markdown",
   "metadata": {
    "deletable": true,
    "editable": true
   },
   "source": [
    "### Train on a Single CIFAR-10 Batch\n",
    "Instead of training the neural network on all the CIFAR-10 batches of data, let's use a single batch. This should save time while you iterate on the model to get a better accuracy.  Once the final validation accuracy is 50% or greater, run the model on all the data in the next section."
   ]
  },
  {
   "cell_type": "code",
   "execution_count": 104,
   "metadata": {
    "collapsed": false,
    "deletable": true,
    "editable": true
   },
   "outputs": [
    {
     "name": "stdout",
     "output_type": "stream",
     "text": [
      "Checking the Training on a Single Batch...\n",
      "Epoch  1, CIFAR-10 Batch 1:  Loss: 2.1298 Validation Accuracy: 0.2724\n",
      "Epoch  2, CIFAR-10 Batch 1:  Loss: 1.9167 Validation Accuracy: 0.3530\n",
      "Epoch  3, CIFAR-10 Batch 1:  Loss: 1.7052 Validation Accuracy: 0.3890\n",
      "Epoch  4, CIFAR-10 Batch 1:  Loss: 1.5644 Validation Accuracy: 0.4128\n",
      "Epoch  5, CIFAR-10 Batch 1:  Loss: 1.4258 Validation Accuracy: 0.4330\n",
      "Epoch  6, CIFAR-10 Batch 1:  Loss: 1.2622 Validation Accuracy: 0.4722\n",
      "Epoch  7, CIFAR-10 Batch 1:  Loss: 1.1672 Validation Accuracy: 0.4774\n",
      "Epoch  8, CIFAR-10 Batch 1:  Loss: 1.0476 Validation Accuracy: 0.4820\n",
      "Epoch  9, CIFAR-10 Batch 1:  Loss: 0.9718 Validation Accuracy: 0.4946\n",
      "Epoch 10, CIFAR-10 Batch 1:  Loss: 0.8795 Validation Accuracy: 0.4632\n",
      "Epoch 11, CIFAR-10 Batch 1:  Loss: 0.7362 Validation Accuracy: 0.4808\n",
      "Epoch 12, CIFAR-10 Batch 1:  Loss: 0.6747 Validation Accuracy: 0.4848\n",
      "Epoch 13, CIFAR-10 Batch 1:  Loss: 0.6011 Validation Accuracy: 0.4902\n",
      "Epoch 14, CIFAR-10 Batch 1:  Loss: 0.5329 Validation Accuracy: 0.4856\n",
      "Epoch 15, CIFAR-10 Batch 1:  Loss: 0.3878 Validation Accuracy: 0.5060\n",
      "Epoch 16, CIFAR-10 Batch 1:  Loss: 0.3104 Validation Accuracy: 0.5158\n",
      "Epoch 17, CIFAR-10 Batch 1:  Loss: 0.2410 Validation Accuracy: 0.5060\n",
      "Epoch 18, CIFAR-10 Batch 1:  Loss: 0.2308 Validation Accuracy: 0.4856\n",
      "Epoch 19, CIFAR-10 Batch 1:  Loss: 0.1390 Validation Accuracy: 0.4924\n",
      "Epoch 20, CIFAR-10 Batch 1:  Loss: 0.1741 Validation Accuracy: 0.5106\n",
      "Epoch 21, CIFAR-10 Batch 1:  Loss: 0.1054 Validation Accuracy: 0.5150\n",
      "Epoch 22, CIFAR-10 Batch 1:  Loss: 0.0713 Validation Accuracy: 0.5186\n",
      "Epoch 23, CIFAR-10 Batch 1:  Loss: 0.1020 Validation Accuracy: 0.5034\n",
      "Epoch 24, CIFAR-10 Batch 1:  Loss: 0.0409 Validation Accuracy: 0.5208\n",
      "Epoch 25, CIFAR-10 Batch 1:  Loss: 0.0462 Validation Accuracy: 0.5106\n",
      "Epoch 26, CIFAR-10 Batch 1:  Loss: 0.0535 Validation Accuracy: 0.4944\n",
      "Epoch 27, CIFAR-10 Batch 1:  Loss: 0.0685 Validation Accuracy: 0.5008\n",
      "Epoch 28, CIFAR-10 Batch 1:  Loss: 0.0359 Validation Accuracy: 0.4908\n",
      "Epoch 29, CIFAR-10 Batch 1:  Loss: 0.0227 Validation Accuracy: 0.4848\n",
      "Epoch 30, CIFAR-10 Batch 1:  Loss: 0.0087 Validation Accuracy: 0.5058\n",
      "Epoch 31, CIFAR-10 Batch 1:  Loss: 0.0043 Validation Accuracy: 0.5052\n",
      "Epoch 32, CIFAR-10 Batch 1:  Loss: 0.0131 Validation Accuracy: 0.4988\n",
      "Epoch 33, CIFAR-10 Batch 1:  Loss: 0.0193 Validation Accuracy: 0.4994\n",
      "Epoch 34, CIFAR-10 Batch 1:  Loss: 0.0098 Validation Accuracy: 0.5100\n",
      "Epoch 35, CIFAR-10 Batch 1:  Loss: 0.0023 Validation Accuracy: 0.5030\n",
      "Epoch 36, CIFAR-10 Batch 1:  Loss: 0.0016 Validation Accuracy: 0.5076\n",
      "Epoch 37, CIFAR-10 Batch 1:  Loss: 0.0023 Validation Accuracy: 0.5080\n",
      "Epoch 38, CIFAR-10 Batch 1:  Loss: 0.0021 Validation Accuracy: 0.4986\n",
      "Epoch 39, CIFAR-10 Batch 1:  Loss: 0.0046 Validation Accuracy: 0.5084\n",
      "Epoch 40, CIFAR-10 Batch 1:  Loss: 0.0014 Validation Accuracy: 0.5132\n",
      "Epoch 41, CIFAR-10 Batch 1:  Loss: 0.0040 Validation Accuracy: 0.5090\n",
      "Epoch 42, CIFAR-10 Batch 1:  Loss: 0.0051 Validation Accuracy: 0.4978\n",
      "Epoch 43, CIFAR-10 Batch 1:  Loss: 0.0028 Validation Accuracy: 0.4938\n",
      "Epoch 44, CIFAR-10 Batch 1:  Loss: 0.0041 Validation Accuracy: 0.5126\n",
      "Epoch 45, CIFAR-10 Batch 1:  Loss: 0.0004 Validation Accuracy: 0.5088\n",
      "Epoch 46, CIFAR-10 Batch 1:  Loss: 0.0037 Validation Accuracy: 0.4990\n",
      "Epoch 47, CIFAR-10 Batch 1:  Loss: 0.0011 Validation Accuracy: 0.4878\n",
      "Epoch 48, CIFAR-10 Batch 1:  Loss: 0.0039 Validation Accuracy: 0.5112\n",
      "Epoch 49, CIFAR-10 Batch 1:  Loss: 0.0029 Validation Accuracy: 0.5082\n",
      "Epoch 50, CIFAR-10 Batch 1:  Loss: 0.0007 Validation Accuracy: 0.4966\n",
      "Epoch 51, CIFAR-10 Batch 1:  Loss: 0.0004 Validation Accuracy: 0.5066\n",
      "Epoch 52, CIFAR-10 Batch 1:  Loss: 0.0018 Validation Accuracy: 0.5028\n",
      "Epoch 53, CIFAR-10 Batch 1:  Loss: 0.0025 Validation Accuracy: 0.5184\n",
      "Epoch 54, CIFAR-10 Batch 1:  Loss: 0.0017 Validation Accuracy: 0.4798\n",
      "Epoch 55, CIFAR-10 Batch 1:  Loss: 0.0019 Validation Accuracy: 0.5098\n",
      "Epoch 56, CIFAR-10 Batch 1:  Loss: 0.0007 Validation Accuracy: 0.5116\n",
      "Epoch 57, CIFAR-10 Batch 1:  Loss: 0.0010 Validation Accuracy: 0.5098\n",
      "Epoch 58, CIFAR-10 Batch 1:  Loss: 0.0023 Validation Accuracy: 0.5004\n",
      "Epoch 59, CIFAR-10 Batch 1:  Loss: 0.0021 Validation Accuracy: 0.4850\n",
      "Epoch 60, CIFAR-10 Batch 1:  Loss: 0.0001 Validation Accuracy: 0.4946\n",
      "Epoch 61, CIFAR-10 Batch 1:  Loss: 0.0011 Validation Accuracy: 0.4764\n",
      "Epoch 62, CIFAR-10 Batch 1:  Loss: 0.0006 Validation Accuracy: 0.4800\n",
      "Epoch 63, CIFAR-10 Batch 1:  Loss: 0.0003 Validation Accuracy: 0.4952\n",
      "Epoch 64, CIFAR-10 Batch 1:  Loss: 0.0007 Validation Accuracy: 0.4662\n",
      "Epoch 65, CIFAR-10 Batch 1:  Loss: 0.0002 Validation Accuracy: 0.4940\n",
      "Epoch 66, CIFAR-10 Batch 1:  Loss: 0.0011 Validation Accuracy: 0.4780\n",
      "Epoch 67, CIFAR-10 Batch 1:  Loss: 0.0018 Validation Accuracy: 0.4626\n",
      "Epoch 68, CIFAR-10 Batch 1:  Loss: 0.0062 Validation Accuracy: 0.4956\n",
      "Epoch 69, CIFAR-10 Batch 1:  Loss: 0.0004 Validation Accuracy: 0.4772\n",
      "Epoch 70, CIFAR-10 Batch 1:  Loss: 0.0001 Validation Accuracy: 0.5058\n",
      "Epoch 71, CIFAR-10 Batch 1:  Loss: 0.0001 Validation Accuracy: 0.5068\n",
      "Epoch 72, CIFAR-10 Batch 1:  Loss: 0.0044 Validation Accuracy: 0.4990\n",
      "Epoch 73, CIFAR-10 Batch 1:  Loss: 0.0000 Validation Accuracy: 0.5066\n",
      "Epoch 74, CIFAR-10 Batch 1:  Loss: 0.0188 Validation Accuracy: 0.5026\n",
      "Epoch 75, CIFAR-10 Batch 1:  Loss: 0.0001 Validation Accuracy: 0.5134\n",
      "Epoch 76, CIFAR-10 Batch 1:  Loss: 0.0002 Validation Accuracy: 0.5068\n",
      "Epoch 77, CIFAR-10 Batch 1:  Loss: 0.0009 Validation Accuracy: 0.5044\n",
      "Epoch 78, CIFAR-10 Batch 1:  Loss: 0.0001 Validation Accuracy: 0.5070\n",
      "Epoch 79, CIFAR-10 Batch 1:  Loss: 0.0002 Validation Accuracy: 0.5032\n",
      "Epoch 80, CIFAR-10 Batch 1:  Loss: 0.0064 Validation Accuracy: 0.4974\n",
      "Epoch 81, CIFAR-10 Batch 1:  Loss: 0.0007 Validation Accuracy: 0.5032\n",
      "Epoch 82, CIFAR-10 Batch 1:  Loss: 0.0001 Validation Accuracy: 0.5092\n",
      "Epoch 83, CIFAR-10 Batch 1:  Loss: 0.0002 Validation Accuracy: 0.5050\n",
      "Epoch 84, CIFAR-10 Batch 1:  Loss: 0.0004 Validation Accuracy: 0.5074\n",
      "Epoch 85, CIFAR-10 Batch 1:  Loss: 0.0001 Validation Accuracy: 0.4998\n",
      "Epoch 86, CIFAR-10 Batch 1:  Loss: 0.0036 Validation Accuracy: 0.4970\n",
      "Epoch 87, CIFAR-10 Batch 1:  Loss: 0.0001 Validation Accuracy: 0.4918\n",
      "Epoch 88, CIFAR-10 Batch 1:  Loss: 0.0010 Validation Accuracy: 0.4912\n",
      "Epoch 89, CIFAR-10 Batch 1:  Loss: 0.0004 Validation Accuracy: 0.5100\n",
      "Epoch 90, CIFAR-10 Batch 1:  Loss: 0.0002 Validation Accuracy: 0.5030\n",
      "Epoch 91, CIFAR-10 Batch 1:  Loss: 0.0003 Validation Accuracy: 0.5022\n",
      "Epoch 92, CIFAR-10 Batch 1:  Loss: 0.0001 Validation Accuracy: 0.5108\n",
      "Epoch 93, CIFAR-10 Batch 1:  Loss: 0.0001 Validation Accuracy: 0.5032\n",
      "Epoch 94, CIFAR-10 Batch 1:  Loss: 0.0001 Validation Accuracy: 0.4976\n",
      "Epoch 95, CIFAR-10 Batch 1:  Loss: 0.0001 Validation Accuracy: 0.5106\n",
      "Epoch 96, CIFAR-10 Batch 1:  Loss: 0.0001 Validation Accuracy: 0.5172\n",
      "Epoch 97, CIFAR-10 Batch 1:  Loss: 0.0001 Validation Accuracy: 0.5008\n",
      "Epoch 98, CIFAR-10 Batch 1:  Loss: 0.0018 Validation Accuracy: 0.4970\n",
      "Epoch 99, CIFAR-10 Batch 1:  Loss: 0.0000 Validation Accuracy: 0.4934\n",
      "Epoch 100, CIFAR-10 Batch 1:  Loss: 0.0004 Validation Accuracy: 0.4918\n"
     ]
    }
   ],
   "source": [
    "\"\"\"\n",
    "DON'T MODIFY ANYTHING IN THIS CELL\n",
    "\"\"\"\n",
    "print('Checking the Training on a Single Batch...')\n",
    "with tf.Session() as sess:\n",
    "    # Initializing the variables\n",
    "    sess.run(tf.global_variables_initializer())\n",
    "    \n",
    "    # Training cycle\n",
    "    for epoch in range(epochs):\n",
    "        batch_i = 1\n",
    "        for batch_features, batch_labels in helper.load_preprocess_training_batch(batch_i, batch_size):\n",
    "            train_neural_network(sess, optimizer, keep_probability, batch_features, batch_labels)\n",
    "        print('Epoch {:>2}, CIFAR-10 Batch {}:  '.format(epoch + 1, batch_i), end='')\n",
    "        print_stats(sess, batch_features, batch_labels, cost, accuracy)"
   ]
  },
  {
   "cell_type": "markdown",
   "metadata": {
    "deletable": true,
    "editable": true
   },
   "source": [
    "### Fully Train the Model\n",
    "Now that you got a good accuracy with a single CIFAR-10 batch, try it with all five batches."
   ]
  },
  {
   "cell_type": "code",
   "execution_count": 105,
   "metadata": {
    "collapsed": false,
    "deletable": true,
    "editable": true
   },
   "outputs": [
    {
     "name": "stdout",
     "output_type": "stream",
     "text": [
      "Training...\n",
      "Epoch  1, CIFAR-10 Batch 1:  Loss: 2.0724 Validation Accuracy: 0.3016\n",
      "Epoch  1, CIFAR-10 Batch 2:  Loss: 1.7677 Validation Accuracy: 0.3470\n",
      "Epoch  1, CIFAR-10 Batch 3:  Loss: 1.5605 Validation Accuracy: 0.3860\n",
      "Epoch  1, CIFAR-10 Batch 4:  Loss: 1.6469 Validation Accuracy: 0.4188\n",
      "Epoch  1, CIFAR-10 Batch 5:  Loss: 1.5967 Validation Accuracy: 0.4150\n",
      "Epoch  2, CIFAR-10 Batch 1:  Loss: 1.5593 Validation Accuracy: 0.4516\n",
      "Epoch  2, CIFAR-10 Batch 2:  Loss: 1.4318 Validation Accuracy: 0.4552\n",
      "Epoch  2, CIFAR-10 Batch 3:  Loss: 1.2408 Validation Accuracy: 0.4560\n",
      "Epoch  2, CIFAR-10 Batch 4:  Loss: 1.3448 Validation Accuracy: 0.4670\n",
      "Epoch  2, CIFAR-10 Batch 5:  Loss: 1.3406 Validation Accuracy: 0.4984\n",
      "Epoch  3, CIFAR-10 Batch 1:  Loss: 1.3949 Validation Accuracy: 0.5114\n",
      "Epoch  3, CIFAR-10 Batch 2:  Loss: 1.2716 Validation Accuracy: 0.4702\n",
      "Epoch  3, CIFAR-10 Batch 3:  Loss: 1.1019 Validation Accuracy: 0.5146\n",
      "Epoch  3, CIFAR-10 Batch 4:  Loss: 1.1596 Validation Accuracy: 0.5272\n",
      "Epoch  3, CIFAR-10 Batch 5:  Loss: 1.2549 Validation Accuracy: 0.5362\n",
      "Epoch  4, CIFAR-10 Batch 1:  Loss: 1.0692 Validation Accuracy: 0.5506\n",
      "Epoch  4, CIFAR-10 Batch 2:  Loss: 1.0632 Validation Accuracy: 0.5524\n",
      "Epoch  4, CIFAR-10 Batch 3:  Loss: 0.9761 Validation Accuracy: 0.5340\n",
      "Epoch  4, CIFAR-10 Batch 4:  Loss: 1.0311 Validation Accuracy: 0.5536\n",
      "Epoch  4, CIFAR-10 Batch 5:  Loss: 0.9176 Validation Accuracy: 0.5640\n",
      "Epoch  5, CIFAR-10 Batch 1:  Loss: 0.9774 Validation Accuracy: 0.5756\n",
      "Epoch  5, CIFAR-10 Batch 2:  Loss: 0.8949 Validation Accuracy: 0.5640\n",
      "Epoch  5, CIFAR-10 Batch 3:  Loss: 0.7712 Validation Accuracy: 0.5570\n",
      "Epoch  5, CIFAR-10 Batch 4:  Loss: 0.8901 Validation Accuracy: 0.5798\n",
      "Epoch  5, CIFAR-10 Batch 5:  Loss: 0.7532 Validation Accuracy: 0.5856\n",
      "Epoch  6, CIFAR-10 Batch 1:  Loss: 0.7751 Validation Accuracy: 0.5828\n",
      "Epoch  6, CIFAR-10 Batch 2:  Loss: 0.7307 Validation Accuracy: 0.5928\n",
      "Epoch  6, CIFAR-10 Batch 3:  Loss: 0.6440 Validation Accuracy: 0.5790\n",
      "Epoch  6, CIFAR-10 Batch 4:  Loss: 0.7658 Validation Accuracy: 0.5948\n",
      "Epoch  6, CIFAR-10 Batch 5:  Loss: 0.6793 Validation Accuracy: 0.5870\n",
      "Epoch  7, CIFAR-10 Batch 1:  Loss: 0.6920 Validation Accuracy: 0.5754\n",
      "Epoch  7, CIFAR-10 Batch 2:  Loss: 0.6111 Validation Accuracy: 0.5910\n",
      "Epoch  7, CIFAR-10 Batch 3:  Loss: 0.5565 Validation Accuracy: 0.6058\n",
      "Epoch  7, CIFAR-10 Batch 4:  Loss: 0.6551 Validation Accuracy: 0.5922\n",
      "Epoch  7, CIFAR-10 Batch 5:  Loss: 0.5865 Validation Accuracy: 0.6034\n",
      "Epoch  8, CIFAR-10 Batch 1:  Loss: 0.6370 Validation Accuracy: 0.5816\n",
      "Epoch  8, CIFAR-10 Batch 2:  Loss: 0.4689 Validation Accuracy: 0.6072\n",
      "Epoch  8, CIFAR-10 Batch 3:  Loss: 0.4013 Validation Accuracy: 0.6012\n",
      "Epoch  8, CIFAR-10 Batch 4:  Loss: 0.4663 Validation Accuracy: 0.6220\n",
      "Epoch  8, CIFAR-10 Batch 5:  Loss: 0.4359 Validation Accuracy: 0.6160\n",
      "Epoch  9, CIFAR-10 Batch 1:  Loss: 0.5242 Validation Accuracy: 0.5968\n",
      "Epoch  9, CIFAR-10 Batch 2:  Loss: 0.4112 Validation Accuracy: 0.5958\n",
      "Epoch  9, CIFAR-10 Batch 3:  Loss: 0.3290 Validation Accuracy: 0.5994\n",
      "Epoch  9, CIFAR-10 Batch 4:  Loss: 0.3944 Validation Accuracy: 0.6210\n",
      "Epoch  9, CIFAR-10 Batch 5:  Loss: 0.4227 Validation Accuracy: 0.5970\n",
      "Epoch 10, CIFAR-10 Batch 1:  Loss: 0.3845 Validation Accuracy: 0.5968\n",
      "Epoch 10, CIFAR-10 Batch 2:  Loss: 0.3547 Validation Accuracy: 0.6054\n",
      "Epoch 10, CIFAR-10 Batch 3:  Loss: 0.2942 Validation Accuracy: 0.5818\n",
      "Epoch 10, CIFAR-10 Batch 4:  Loss: 0.3329 Validation Accuracy: 0.6228\n",
      "Epoch 10, CIFAR-10 Batch 5:  Loss: 0.3171 Validation Accuracy: 0.5884\n",
      "Epoch 11, CIFAR-10 Batch 1:  Loss: 0.3122 Validation Accuracy: 0.6076\n",
      "Epoch 11, CIFAR-10 Batch 2:  Loss: 0.3564 Validation Accuracy: 0.5984\n",
      "Epoch 11, CIFAR-10 Batch 3:  Loss: 0.2073 Validation Accuracy: 0.5878\n",
      "Epoch 11, CIFAR-10 Batch 4:  Loss: 0.2699 Validation Accuracy: 0.6096\n",
      "Epoch 11, CIFAR-10 Batch 5:  Loss: 0.2507 Validation Accuracy: 0.5908\n",
      "Epoch 12, CIFAR-10 Batch 1:  Loss: 0.2768 Validation Accuracy: 0.6082\n",
      "Epoch 12, CIFAR-10 Batch 2:  Loss: 0.2553 Validation Accuracy: 0.6096\n",
      "Epoch 12, CIFAR-10 Batch 3:  Loss: 0.1981 Validation Accuracy: 0.6010\n",
      "Epoch 12, CIFAR-10 Batch 4:  Loss: 0.2446 Validation Accuracy: 0.6152\n",
      "Epoch 12, CIFAR-10 Batch 5:  Loss: 0.2377 Validation Accuracy: 0.5864\n",
      "Epoch 13, CIFAR-10 Batch 1:  Loss: 0.2602 Validation Accuracy: 0.6038\n",
      "Epoch 13, CIFAR-10 Batch 2:  Loss: 0.2860 Validation Accuracy: 0.6002\n",
      "Epoch 13, CIFAR-10 Batch 3:  Loss: 0.1509 Validation Accuracy: 0.5906\n",
      "Epoch 13, CIFAR-10 Batch 4:  Loss: 0.2051 Validation Accuracy: 0.5904\n",
      "Epoch 13, CIFAR-10 Batch 5:  Loss: 0.1789 Validation Accuracy: 0.5596\n",
      "Epoch 14, CIFAR-10 Batch 1:  Loss: 0.2384 Validation Accuracy: 0.5950\n",
      "Epoch 14, CIFAR-10 Batch 2:  Loss: 0.2831 Validation Accuracy: 0.5984\n",
      "Epoch 14, CIFAR-10 Batch 3:  Loss: 0.1342 Validation Accuracy: 0.6062\n",
      "Epoch 14, CIFAR-10 Batch 4:  Loss: 0.1737 Validation Accuracy: 0.5848\n",
      "Epoch 14, CIFAR-10 Batch 5:  Loss: 0.1153 Validation Accuracy: 0.5672\n",
      "Epoch 15, CIFAR-10 Batch 1:  Loss: 0.1756 Validation Accuracy: 0.5962\n",
      "Epoch 15, CIFAR-10 Batch 2:  Loss: 0.1540 Validation Accuracy: 0.5900\n",
      "Epoch 15, CIFAR-10 Batch 3:  Loss: 0.1141 Validation Accuracy: 0.5980\n",
      "Epoch 15, CIFAR-10 Batch 4:  Loss: 0.1890 Validation Accuracy: 0.5852\n",
      "Epoch 15, CIFAR-10 Batch 5:  Loss: 0.1260 Validation Accuracy: 0.5870\n",
      "Epoch 16, CIFAR-10 Batch 1:  Loss: 0.1644 Validation Accuracy: 0.5916\n",
      "Epoch 16, CIFAR-10 Batch 2:  Loss: 0.1253 Validation Accuracy: 0.6052\n",
      "Epoch 16, CIFAR-10 Batch 3:  Loss: 0.0734 Validation Accuracy: 0.5662\n",
      "Epoch 16, CIFAR-10 Batch 4:  Loss: 0.1447 Validation Accuracy: 0.5706\n",
      "Epoch 16, CIFAR-10 Batch 5:  Loss: 0.1395 Validation Accuracy: 0.5860\n",
      "Epoch 17, CIFAR-10 Batch 1:  Loss: 0.1099 Validation Accuracy: 0.5844\n",
      "Epoch 17, CIFAR-10 Batch 2:  Loss: 0.1143 Validation Accuracy: 0.6006\n",
      "Epoch 17, CIFAR-10 Batch 3:  Loss: 0.0476 Validation Accuracy: 0.5556\n",
      "Epoch 17, CIFAR-10 Batch 4:  Loss: 0.1179 Validation Accuracy: 0.5710\n",
      "Epoch 17, CIFAR-10 Batch 5:  Loss: 0.0866 Validation Accuracy: 0.5934\n",
      "Epoch 18, CIFAR-10 Batch 1:  Loss: 0.0950 Validation Accuracy: 0.5848\n",
      "Epoch 18, CIFAR-10 Batch 2:  Loss: 0.0780 Validation Accuracy: 0.5924\n",
      "Epoch 18, CIFAR-10 Batch 3:  Loss: 0.0480 Validation Accuracy: 0.5676\n",
      "Epoch 18, CIFAR-10 Batch 4:  Loss: 0.0604 Validation Accuracy: 0.5776\n",
      "Epoch 18, CIFAR-10 Batch 5:  Loss: 0.0941 Validation Accuracy: 0.5918\n",
      "Epoch 19, CIFAR-10 Batch 1:  Loss: 0.0839 Validation Accuracy: 0.5838\n",
      "Epoch 19, CIFAR-10 Batch 2:  Loss: 0.0500 Validation Accuracy: 0.5968\n",
      "Epoch 19, CIFAR-10 Batch 3:  Loss: 0.0378 Validation Accuracy: 0.5754\n",
      "Epoch 19, CIFAR-10 Batch 4:  Loss: 0.0608 Validation Accuracy: 0.5782\n",
      "Epoch 19, CIFAR-10 Batch 5:  Loss: 0.0477 Validation Accuracy: 0.5884\n",
      "Epoch 20, CIFAR-10 Batch 1:  Loss: 0.0681 Validation Accuracy: 0.5678\n",
      "Epoch 20, CIFAR-10 Batch 2:  Loss: 0.0486 Validation Accuracy: 0.5848\n",
      "Epoch 20, CIFAR-10 Batch 3:  Loss: 0.0335 Validation Accuracy: 0.5690\n",
      "Epoch 20, CIFAR-10 Batch 4:  Loss: 0.0361 Validation Accuracy: 0.5874\n",
      "Epoch 20, CIFAR-10 Batch 5:  Loss: 0.0470 Validation Accuracy: 0.5806\n",
      "Epoch 21, CIFAR-10 Batch 1:  Loss: 0.0617 Validation Accuracy: 0.5664\n",
      "Epoch 21, CIFAR-10 Batch 2:  Loss: 0.0488 Validation Accuracy: 0.5966\n",
      "Epoch 21, CIFAR-10 Batch 3:  Loss: 0.0219 Validation Accuracy: 0.5732\n",
      "Epoch 21, CIFAR-10 Batch 4:  Loss: 0.0358 Validation Accuracy: 0.5796\n",
      "Epoch 21, CIFAR-10 Batch 5:  Loss: 0.0307 Validation Accuracy: 0.5938\n",
      "Epoch 22, CIFAR-10 Batch 1:  Loss: 0.0674 Validation Accuracy: 0.5566\n",
      "Epoch 22, CIFAR-10 Batch 2:  Loss: 0.0316 Validation Accuracy: 0.5870\n",
      "Epoch 22, CIFAR-10 Batch 3:  Loss: 0.0110 Validation Accuracy: 0.5912\n",
      "Epoch 22, CIFAR-10 Batch 4:  Loss: 0.0470 Validation Accuracy: 0.5904\n",
      "Epoch 22, CIFAR-10 Batch 5:  Loss: 0.0260 Validation Accuracy: 0.5788\n",
      "Epoch 23, CIFAR-10 Batch 1:  Loss: 0.0565 Validation Accuracy: 0.5642\n",
      "Epoch 23, CIFAR-10 Batch 2:  Loss: 0.0309 Validation Accuracy: 0.6000\n",
      "Epoch 23, CIFAR-10 Batch 3:  Loss: 0.0174 Validation Accuracy: 0.5868\n",
      "Epoch 23, CIFAR-10 Batch 4:  Loss: 0.0364 Validation Accuracy: 0.5850\n",
      "Epoch 23, CIFAR-10 Batch 5:  Loss: 0.0206 Validation Accuracy: 0.5970\n",
      "Epoch 24, CIFAR-10 Batch 1:  Loss: 0.0324 Validation Accuracy: 0.5712\n",
      "Epoch 24, CIFAR-10 Batch 2:  Loss: 0.0206 Validation Accuracy: 0.5894\n",
      "Epoch 24, CIFAR-10 Batch 3:  Loss: 0.0058 Validation Accuracy: 0.5976\n",
      "Epoch 24, CIFAR-10 Batch 4:  Loss: 0.0361 Validation Accuracy: 0.5838\n",
      "Epoch 24, CIFAR-10 Batch 5:  Loss: 0.0179 Validation Accuracy: 0.5746\n",
      "Epoch 25, CIFAR-10 Batch 1:  Loss: 0.0886 Validation Accuracy: 0.5706\n",
      "Epoch 25, CIFAR-10 Batch 2:  Loss: 0.0214 Validation Accuracy: 0.5828\n",
      "Epoch 25, CIFAR-10 Batch 3:  Loss: 0.0039 Validation Accuracy: 0.5896\n",
      "Epoch 25, CIFAR-10 Batch 4:  Loss: 0.0200 Validation Accuracy: 0.5816\n",
      "Epoch 25, CIFAR-10 Batch 5:  Loss: 0.0238 Validation Accuracy: 0.5824\n",
      "Epoch 26, CIFAR-10 Batch 1:  Loss: 0.0262 Validation Accuracy: 0.5758\n",
      "Epoch 26, CIFAR-10 Batch 2:  Loss: 0.0175 Validation Accuracy: 0.5734\n",
      "Epoch 26, CIFAR-10 Batch 3:  Loss: 0.0092 Validation Accuracy: 0.5816\n",
      "Epoch 26, CIFAR-10 Batch 4:  Loss: 0.0198 Validation Accuracy: 0.5822\n",
      "Epoch 26, CIFAR-10 Batch 5:  Loss: 0.0157 Validation Accuracy: 0.5836\n",
      "Epoch 27, CIFAR-10 Batch 1:  Loss: 0.0332 Validation Accuracy: 0.5878\n",
      "Epoch 27, CIFAR-10 Batch 2:  Loss: 0.0130 Validation Accuracy: 0.5786\n",
      "Epoch 27, CIFAR-10 Batch 3:  Loss: 0.0180 Validation Accuracy: 0.5926\n",
      "Epoch 27, CIFAR-10 Batch 4:  Loss: 0.0127 Validation Accuracy: 0.5708\n",
      "Epoch 27, CIFAR-10 Batch 5:  Loss: 0.0103 Validation Accuracy: 0.5742\n",
      "Epoch 28, CIFAR-10 Batch 1:  Loss: 0.0169 Validation Accuracy: 0.5804\n",
      "Epoch 28, CIFAR-10 Batch 2:  Loss: 0.0113 Validation Accuracy: 0.5810\n",
      "Epoch 28, CIFAR-10 Batch 3:  Loss: 0.0171 Validation Accuracy: 0.5832\n",
      "Epoch 28, CIFAR-10 Batch 4:  Loss: 0.0129 Validation Accuracy: 0.5828\n",
      "Epoch 28, CIFAR-10 Batch 5:  Loss: 0.0084 Validation Accuracy: 0.5844\n",
      "Epoch 29, CIFAR-10 Batch 1:  Loss: 0.0055 Validation Accuracy: 0.5940\n",
      "Epoch 29, CIFAR-10 Batch 2:  Loss: 0.0157 Validation Accuracy: 0.5620\n",
      "Epoch 29, CIFAR-10 Batch 3:  Loss: 0.0050 Validation Accuracy: 0.5802\n",
      "Epoch 29, CIFAR-10 Batch 4:  Loss: 0.0231 Validation Accuracy: 0.5850\n",
      "Epoch 29, CIFAR-10 Batch 5:  Loss: 0.0165 Validation Accuracy: 0.5892\n",
      "Epoch 30, CIFAR-10 Batch 1:  Loss: 0.0698 Validation Accuracy: 0.5798\n",
      "Epoch 30, CIFAR-10 Batch 2:  Loss: 0.0112 Validation Accuracy: 0.5782\n",
      "Epoch 30, CIFAR-10 Batch 3:  Loss: 0.0038 Validation Accuracy: 0.5770\n",
      "Epoch 30, CIFAR-10 Batch 4:  Loss: 0.0212 Validation Accuracy: 0.5808\n",
      "Epoch 30, CIFAR-10 Batch 5:  Loss: 0.0129 Validation Accuracy: 0.5820\n",
      "Epoch 31, CIFAR-10 Batch 1:  Loss: 0.0087 Validation Accuracy: 0.5944\n",
      "Epoch 31, CIFAR-10 Batch 2:  Loss: 0.0100 Validation Accuracy: 0.5778\n",
      "Epoch 31, CIFAR-10 Batch 3:  Loss: 0.0027 Validation Accuracy: 0.5844\n",
      "Epoch 31, CIFAR-10 Batch 4:  Loss: 0.0061 Validation Accuracy: 0.5844\n",
      "Epoch 31, CIFAR-10 Batch 5:  Loss: 0.0075 Validation Accuracy: 0.5860\n",
      "Epoch 32, CIFAR-10 Batch 1:  Loss: 0.0044 Validation Accuracy: 0.5948\n",
      "Epoch 32, CIFAR-10 Batch 2:  Loss: 0.0126 Validation Accuracy: 0.5760\n",
      "Epoch 32, CIFAR-10 Batch 3:  Loss: 0.0022 Validation Accuracy: 0.5858\n",
      "Epoch 32, CIFAR-10 Batch 4:  Loss: 0.0359 Validation Accuracy: 0.5574\n",
      "Epoch 32, CIFAR-10 Batch 5:  Loss: 0.0130 Validation Accuracy: 0.5924\n",
      "Epoch 33, CIFAR-10 Batch 1:  Loss: 0.0045 Validation Accuracy: 0.5756\n",
      "Epoch 33, CIFAR-10 Batch 2:  Loss: 0.0097 Validation Accuracy: 0.5694\n",
      "Epoch 33, CIFAR-10 Batch 3:  Loss: 0.0099 Validation Accuracy: 0.5620\n",
      "Epoch 33, CIFAR-10 Batch 4:  Loss: 0.0058 Validation Accuracy: 0.5734\n",
      "Epoch 33, CIFAR-10 Batch 5:  Loss: 0.0123 Validation Accuracy: 0.5708\n",
      "Epoch 34, CIFAR-10 Batch 1:  Loss: 0.0028 Validation Accuracy: 0.5766\n",
      "Epoch 34, CIFAR-10 Batch 2:  Loss: 0.0042 Validation Accuracy: 0.5738\n",
      "Epoch 34, CIFAR-10 Batch 3:  Loss: 0.0011 Validation Accuracy: 0.5684\n",
      "Epoch 34, CIFAR-10 Batch 4:  Loss: 0.0125 Validation Accuracy: 0.5694\n",
      "Epoch 34, CIFAR-10 Batch 5:  Loss: 0.0100 Validation Accuracy: 0.5842\n",
      "Epoch 35, CIFAR-10 Batch 1:  Loss: 0.0023 Validation Accuracy: 0.5680\n",
      "Epoch 35, CIFAR-10 Batch 2:  Loss: 0.0079 Validation Accuracy: 0.5736\n",
      "Epoch 35, CIFAR-10 Batch 3:  Loss: 0.0017 Validation Accuracy: 0.5838\n",
      "Epoch 35, CIFAR-10 Batch 4:  Loss: 0.0024 Validation Accuracy: 0.5738\n",
      "Epoch 35, CIFAR-10 Batch 5:  Loss: 0.0022 Validation Accuracy: 0.5882\n",
      "Epoch 36, CIFAR-10 Batch 1:  Loss: 0.0035 Validation Accuracy: 0.5778\n",
      "Epoch 36, CIFAR-10 Batch 2:  Loss: 0.0086 Validation Accuracy: 0.5738\n",
      "Epoch 36, CIFAR-10 Batch 3:  Loss: 0.0021 Validation Accuracy: 0.5784\n",
      "Epoch 36, CIFAR-10 Batch 4:  Loss: 0.0023 Validation Accuracy: 0.5764\n",
      "Epoch 36, CIFAR-10 Batch 5:  Loss: 0.0027 Validation Accuracy: 0.5960\n",
      "Epoch 37, CIFAR-10 Batch 1:  Loss: 0.0062 Validation Accuracy: 0.5750\n",
      "Epoch 37, CIFAR-10 Batch 2:  Loss: 0.0040 Validation Accuracy: 0.5670\n",
      "Epoch 37, CIFAR-10 Batch 3:  Loss: 0.0040 Validation Accuracy: 0.5884\n",
      "Epoch 37, CIFAR-10 Batch 4:  Loss: 0.0044 Validation Accuracy: 0.5740\n",
      "Epoch 37, CIFAR-10 Batch 5:  Loss: 0.0045 Validation Accuracy: 0.5874\n",
      "Epoch 38, CIFAR-10 Batch 1:  Loss: 0.0023 Validation Accuracy: 0.5900\n",
      "Epoch 38, CIFAR-10 Batch 2:  Loss: 0.0019 Validation Accuracy: 0.5752\n",
      "Epoch 38, CIFAR-10 Batch 3:  Loss: 0.0018 Validation Accuracy: 0.5848\n",
      "Epoch 38, CIFAR-10 Batch 4:  Loss: 0.0041 Validation Accuracy: 0.5776\n",
      "Epoch 38, CIFAR-10 Batch 5:  Loss: 0.0122 Validation Accuracy: 0.5802\n",
      "Epoch 39, CIFAR-10 Batch 1:  Loss: 0.0062 Validation Accuracy: 0.5900\n",
      "Epoch 39, CIFAR-10 Batch 2:  Loss: 0.0056 Validation Accuracy: 0.5794\n",
      "Epoch 39, CIFAR-10 Batch 3:  Loss: 0.0025 Validation Accuracy: 0.5828\n",
      "Epoch 39, CIFAR-10 Batch 4:  Loss: 0.0052 Validation Accuracy: 0.5666\n",
      "Epoch 39, CIFAR-10 Batch 5:  Loss: 0.0090 Validation Accuracy: 0.5792\n",
      "Epoch 40, CIFAR-10 Batch 1:  Loss: 0.0031 Validation Accuracy: 0.5908\n",
      "Epoch 40, CIFAR-10 Batch 2:  Loss: 0.0130 Validation Accuracy: 0.5840\n",
      "Epoch 40, CIFAR-10 Batch 3:  Loss: 0.0106 Validation Accuracy: 0.5866\n",
      "Epoch 40, CIFAR-10 Batch 4:  Loss: 0.0083 Validation Accuracy: 0.5770\n",
      "Epoch 40, CIFAR-10 Batch 5:  Loss: 0.0023 Validation Accuracy: 0.5894\n",
      "Epoch 41, CIFAR-10 Batch 1:  Loss: 0.0117 Validation Accuracy: 0.5804\n",
      "Epoch 41, CIFAR-10 Batch 2:  Loss: 0.0116 Validation Accuracy: 0.5698\n",
      "Epoch 41, CIFAR-10 Batch 3:  Loss: 0.0085 Validation Accuracy: 0.5762\n",
      "Epoch 41, CIFAR-10 Batch 4:  Loss: 0.0036 Validation Accuracy: 0.5808\n",
      "Epoch 41, CIFAR-10 Batch 5:  Loss: 0.0030 Validation Accuracy: 0.5974\n",
      "Epoch 42, CIFAR-10 Batch 1:  Loss: 0.0055 Validation Accuracy: 0.5804\n",
      "Epoch 42, CIFAR-10 Batch 2:  Loss: 0.0040 Validation Accuracy: 0.5780\n",
      "Epoch 42, CIFAR-10 Batch 3:  Loss: 0.0041 Validation Accuracy: 0.5796\n",
      "Epoch 42, CIFAR-10 Batch 4:  Loss: 0.0039 Validation Accuracy: 0.5714\n",
      "Epoch 42, CIFAR-10 Batch 5:  Loss: 0.0024 Validation Accuracy: 0.5928\n",
      "Epoch 43, CIFAR-10 Batch 1:  Loss: 0.0035 Validation Accuracy: 0.5848\n",
      "Epoch 43, CIFAR-10 Batch 2:  Loss: 0.0036 Validation Accuracy: 0.5930\n",
      "Epoch 43, CIFAR-10 Batch 3:  Loss: 0.0029 Validation Accuracy: 0.5688\n",
      "Epoch 43, CIFAR-10 Batch 4:  Loss: 0.0038 Validation Accuracy: 0.5864\n",
      "Epoch 43, CIFAR-10 Batch 5:  Loss: 0.0023 Validation Accuracy: 0.5926\n",
      "Epoch 44, CIFAR-10 Batch 1:  Loss: 0.0033 Validation Accuracy: 0.5796\n",
      "Epoch 44, CIFAR-10 Batch 2:  Loss: 0.0039 Validation Accuracy: 0.5814\n",
      "Epoch 44, CIFAR-10 Batch 3:  Loss: 0.0011 Validation Accuracy: 0.5876\n",
      "Epoch 44, CIFAR-10 Batch 4:  Loss: 0.0034 Validation Accuracy: 0.5908\n",
      "Epoch 44, CIFAR-10 Batch 5:  Loss: 0.0030 Validation Accuracy: 0.5920\n",
      "Epoch 45, CIFAR-10 Batch 1:  Loss: 0.0078 Validation Accuracy: 0.5840\n",
      "Epoch 45, CIFAR-10 Batch 2:  Loss: 0.0030 Validation Accuracy: 0.5892\n",
      "Epoch 45, CIFAR-10 Batch 3:  Loss: 0.0126 Validation Accuracy: 0.5824\n",
      "Epoch 45, CIFAR-10 Batch 4:  Loss: 0.0027 Validation Accuracy: 0.5796\n",
      "Epoch 45, CIFAR-10 Batch 5:  Loss: 0.0010 Validation Accuracy: 0.5756\n",
      "Epoch 46, CIFAR-10 Batch 1:  Loss: 0.0080 Validation Accuracy: 0.5782\n",
      "Epoch 46, CIFAR-10 Batch 2:  Loss: 0.0049 Validation Accuracy: 0.5858\n",
      "Epoch 46, CIFAR-10 Batch 3:  Loss: 0.0050 Validation Accuracy: 0.5872\n",
      "Epoch 46, CIFAR-10 Batch 4:  Loss: 0.0047 Validation Accuracy: 0.5910\n",
      "Epoch 46, CIFAR-10 Batch 5:  Loss: 0.0010 Validation Accuracy: 0.5820\n",
      "Epoch 47, CIFAR-10 Batch 1:  Loss: 0.0028 Validation Accuracy: 0.5814\n",
      "Epoch 47, CIFAR-10 Batch 2:  Loss: 0.0115 Validation Accuracy: 0.5866\n",
      "Epoch 47, CIFAR-10 Batch 3:  Loss: 0.0023 Validation Accuracy: 0.5862\n",
      "Epoch 47, CIFAR-10 Batch 4:  Loss: 0.0038 Validation Accuracy: 0.5770\n",
      "Epoch 47, CIFAR-10 Batch 5:  Loss: 0.0089 Validation Accuracy: 0.5926\n",
      "Epoch 48, CIFAR-10 Batch 1:  Loss: 0.0079 Validation Accuracy: 0.5806\n",
      "Epoch 48, CIFAR-10 Batch 2:  Loss: 0.0038 Validation Accuracy: 0.5920\n",
      "Epoch 48, CIFAR-10 Batch 3:  Loss: 0.0004 Validation Accuracy: 0.5874\n",
      "Epoch 48, CIFAR-10 Batch 4:  Loss: 0.0046 Validation Accuracy: 0.5838\n",
      "Epoch 48, CIFAR-10 Batch 5:  Loss: 0.0063 Validation Accuracy: 0.5838\n",
      "Epoch 49, CIFAR-10 Batch 1:  Loss: 0.0027 Validation Accuracy: 0.5822\n",
      "Epoch 49, CIFAR-10 Batch 2:  Loss: 0.0074 Validation Accuracy: 0.5790\n",
      "Epoch 49, CIFAR-10 Batch 3:  Loss: 0.0007 Validation Accuracy: 0.5852\n",
      "Epoch 49, CIFAR-10 Batch 4:  Loss: 0.0004 Validation Accuracy: 0.5788\n",
      "Epoch 49, CIFAR-10 Batch 5:  Loss: 0.0011 Validation Accuracy: 0.5866\n",
      "Epoch 50, CIFAR-10 Batch 1:  Loss: 0.0045 Validation Accuracy: 0.5780\n",
      "Epoch 50, CIFAR-10 Batch 2:  Loss: 0.0207 Validation Accuracy: 0.5790\n",
      "Epoch 50, CIFAR-10 Batch 3:  Loss: 0.0024 Validation Accuracy: 0.5870\n",
      "Epoch 50, CIFAR-10 Batch 4:  Loss: 0.0027 Validation Accuracy: 0.5804\n",
      "Epoch 50, CIFAR-10 Batch 5:  Loss: 0.0134 Validation Accuracy: 0.5764\n",
      "Epoch 51, CIFAR-10 Batch 1:  Loss: 0.0033 Validation Accuracy: 0.5760\n",
      "Epoch 51, CIFAR-10 Batch 2:  Loss: 0.0011 Validation Accuracy: 0.5810\n",
      "Epoch 51, CIFAR-10 Batch 3:  Loss: 0.0094 Validation Accuracy: 0.5894\n",
      "Epoch 51, CIFAR-10 Batch 4:  Loss: 0.0109 Validation Accuracy: 0.5786\n",
      "Epoch 51, CIFAR-10 Batch 5:  Loss: 0.0016 Validation Accuracy: 0.5834\n",
      "Epoch 52, CIFAR-10 Batch 1:  Loss: 0.0016 Validation Accuracy: 0.5910\n",
      "Epoch 52, CIFAR-10 Batch 2:  Loss: 0.0048 Validation Accuracy: 0.5950\n",
      "Epoch 52, CIFAR-10 Batch 3:  Loss: 0.0070 Validation Accuracy: 0.5862\n",
      "Epoch 52, CIFAR-10 Batch 4:  Loss: 0.0020 Validation Accuracy: 0.5738\n",
      "Epoch 52, CIFAR-10 Batch 5:  Loss: 0.0015 Validation Accuracy: 0.5736\n",
      "Epoch 53, CIFAR-10 Batch 1:  Loss: 0.0009 Validation Accuracy: 0.5932\n",
      "Epoch 53, CIFAR-10 Batch 2:  Loss: 0.0049 Validation Accuracy: 0.5802\n",
      "Epoch 53, CIFAR-10 Batch 3:  Loss: 0.0096 Validation Accuracy: 0.5960\n",
      "Epoch 53, CIFAR-10 Batch 4:  Loss: 0.0019 Validation Accuracy: 0.5800\n",
      "Epoch 53, CIFAR-10 Batch 5:  Loss: 0.0027 Validation Accuracy: 0.5788\n",
      "Epoch 54, CIFAR-10 Batch 1:  Loss: 0.0059 Validation Accuracy: 0.5846\n",
      "Epoch 54, CIFAR-10 Batch 2:  Loss: 0.0027 Validation Accuracy: 0.5814\n",
      "Epoch 54, CIFAR-10 Batch 3:  Loss: 0.0064 Validation Accuracy: 0.6012\n",
      "Epoch 54, CIFAR-10 Batch 4:  Loss: 0.0004 Validation Accuracy: 0.5848\n",
      "Epoch 54, CIFAR-10 Batch 5:  Loss: 0.0073 Validation Accuracy: 0.5912\n",
      "Epoch 55, CIFAR-10 Batch 1:  Loss: 0.0010 Validation Accuracy: 0.5934\n",
      "Epoch 55, CIFAR-10 Batch 2:  Loss: 0.0052 Validation Accuracy: 0.5880\n",
      "Epoch 55, CIFAR-10 Batch 3:  Loss: 0.0055 Validation Accuracy: 0.5792\n",
      "Epoch 55, CIFAR-10 Batch 4:  Loss: 0.0076 Validation Accuracy: 0.5744\n",
      "Epoch 55, CIFAR-10 Batch 5:  Loss: 0.0036 Validation Accuracy: 0.5716\n",
      "Epoch 56, CIFAR-10 Batch 1:  Loss: 0.0023 Validation Accuracy: 0.5832\n",
      "Epoch 56, CIFAR-10 Batch 2:  Loss: 0.0003 Validation Accuracy: 0.5876\n",
      "Epoch 56, CIFAR-10 Batch 3:  Loss: 0.0073 Validation Accuracy: 0.5848\n",
      "Epoch 56, CIFAR-10 Batch 4:  Loss: 0.0059 Validation Accuracy: 0.5756\n",
      "Epoch 56, CIFAR-10 Batch 5:  Loss: 0.0075 Validation Accuracy: 0.5734\n",
      "Epoch 57, CIFAR-10 Batch 1:  Loss: 0.0019 Validation Accuracy: 0.5906\n",
      "Epoch 57, CIFAR-10 Batch 2:  Loss: 0.0032 Validation Accuracy: 0.5858\n",
      "Epoch 57, CIFAR-10 Batch 3:  Loss: 0.0019 Validation Accuracy: 0.5836\n",
      "Epoch 57, CIFAR-10 Batch 4:  Loss: 0.0010 Validation Accuracy: 0.5838\n",
      "Epoch 57, CIFAR-10 Batch 5:  Loss: 0.0051 Validation Accuracy: 0.5722\n",
      "Epoch 58, CIFAR-10 Batch 1:  Loss: 0.0036 Validation Accuracy: 0.5952\n",
      "Epoch 58, CIFAR-10 Batch 2:  Loss: 0.0012 Validation Accuracy: 0.5836\n",
      "Epoch 58, CIFAR-10 Batch 3:  Loss: 0.0022 Validation Accuracy: 0.5842\n",
      "Epoch 58, CIFAR-10 Batch 4:  Loss: 0.0049 Validation Accuracy: 0.5896\n",
      "Epoch 58, CIFAR-10 Batch 5:  Loss: 0.0039 Validation Accuracy: 0.5752\n",
      "Epoch 59, CIFAR-10 Batch 1:  Loss: 0.0010 Validation Accuracy: 0.5946\n",
      "Epoch 59, CIFAR-10 Batch 2:  Loss: 0.0006 Validation Accuracy: 0.5750\n",
      "Epoch 59, CIFAR-10 Batch 3:  Loss: 0.0005 Validation Accuracy: 0.5912\n",
      "Epoch 59, CIFAR-10 Batch 4:  Loss: 0.0002 Validation Accuracy: 0.5818\n",
      "Epoch 59, CIFAR-10 Batch 5:  Loss: 0.0136 Validation Accuracy: 0.5752\n",
      "Epoch 60, CIFAR-10 Batch 1:  Loss: 0.0168 Validation Accuracy: 0.5858\n",
      "Epoch 60, CIFAR-10 Batch 2:  Loss: 0.0087 Validation Accuracy: 0.5758\n",
      "Epoch 60, CIFAR-10 Batch 3:  Loss: 0.0028 Validation Accuracy: 0.5936\n",
      "Epoch 60, CIFAR-10 Batch 4:  Loss: 0.0018 Validation Accuracy: 0.5814\n",
      "Epoch 60, CIFAR-10 Batch 5:  Loss: 0.0040 Validation Accuracy: 0.5758\n",
      "Epoch 61, CIFAR-10 Batch 1:  Loss: 0.0075 Validation Accuracy: 0.5900\n",
      "Epoch 61, CIFAR-10 Batch 2:  Loss: 0.0009 Validation Accuracy: 0.5774\n",
      "Epoch 61, CIFAR-10 Batch 3:  Loss: 0.0010 Validation Accuracy: 0.5842\n",
      "Epoch 61, CIFAR-10 Batch 4:  Loss: 0.0008 Validation Accuracy: 0.5760\n",
      "Epoch 61, CIFAR-10 Batch 5:  Loss: 0.0007 Validation Accuracy: 0.5820\n",
      "Epoch 62, CIFAR-10 Batch 1:  Loss: 0.0009 Validation Accuracy: 0.5852\n",
      "Epoch 62, CIFAR-10 Batch 2:  Loss: 0.0031 Validation Accuracy: 0.5766\n",
      "Epoch 62, CIFAR-10 Batch 3:  Loss: 0.0052 Validation Accuracy: 0.5812\n",
      "Epoch 62, CIFAR-10 Batch 4:  Loss: 0.0088 Validation Accuracy: 0.5910\n",
      "Epoch 62, CIFAR-10 Batch 5:  Loss: 0.0046 Validation Accuracy: 0.5834\n",
      "Epoch 63, CIFAR-10 Batch 1:  Loss: 0.0029 Validation Accuracy: 0.5884\n",
      "Epoch 63, CIFAR-10 Batch 2:  Loss: 0.0012 Validation Accuracy: 0.5892\n",
      "Epoch 63, CIFAR-10 Batch 3:  Loss: 0.0005 Validation Accuracy: 0.5850\n",
      "Epoch 63, CIFAR-10 Batch 4:  Loss: 0.0043 Validation Accuracy: 0.5826\n",
      "Epoch 63, CIFAR-10 Batch 5:  Loss: 0.0017 Validation Accuracy: 0.5810\n",
      "Epoch 64, CIFAR-10 Batch 1:  Loss: 0.0014 Validation Accuracy: 0.5856\n",
      "Epoch 64, CIFAR-10 Batch 2:  Loss: 0.0037 Validation Accuracy: 0.5824\n",
      "Epoch 64, CIFAR-10 Batch 3:  Loss: 0.0107 Validation Accuracy: 0.5850\n",
      "Epoch 64, CIFAR-10 Batch 4:  Loss: 0.0021 Validation Accuracy: 0.5774\n",
      "Epoch 64, CIFAR-10 Batch 5:  Loss: 0.0001 Validation Accuracy: 0.5878\n",
      "Epoch 65, CIFAR-10 Batch 1:  Loss: 0.0083 Validation Accuracy: 0.5934\n",
      "Epoch 65, CIFAR-10 Batch 2:  Loss: 0.0001 Validation Accuracy: 0.5888\n",
      "Epoch 65, CIFAR-10 Batch 3:  Loss: 0.0011 Validation Accuracy: 0.5882\n",
      "Epoch 65, CIFAR-10 Batch 4:  Loss: 0.0003 Validation Accuracy: 0.5754\n",
      "Epoch 65, CIFAR-10 Batch 5:  Loss: 0.0020 Validation Accuracy: 0.5786\n",
      "Epoch 66, CIFAR-10 Batch 1:  Loss: 0.0088 Validation Accuracy: 0.5870\n",
      "Epoch 66, CIFAR-10 Batch 2:  Loss: 0.0104 Validation Accuracy: 0.5832\n",
      "Epoch 66, CIFAR-10 Batch 3:  Loss: 0.0005 Validation Accuracy: 0.5852\n",
      "Epoch 66, CIFAR-10 Batch 4:  Loss: 0.0053 Validation Accuracy: 0.5788\n",
      "Epoch 66, CIFAR-10 Batch 5:  Loss: 0.0007 Validation Accuracy: 0.5702\n",
      "Epoch 67, CIFAR-10 Batch 1:  Loss: 0.0056 Validation Accuracy: 0.5696\n",
      "Epoch 67, CIFAR-10 Batch 2:  Loss: 0.0006 Validation Accuracy: 0.5916\n",
      "Epoch 67, CIFAR-10 Batch 3:  Loss: 0.0006 Validation Accuracy: 0.5872\n",
      "Epoch 67, CIFAR-10 Batch 4:  Loss: 0.0002 Validation Accuracy: 0.5844\n",
      "Epoch 67, CIFAR-10 Batch 5:  Loss: 0.0061 Validation Accuracy: 0.5814\n",
      "Epoch 68, CIFAR-10 Batch 1:  Loss: 0.0022 Validation Accuracy: 0.5886\n",
      "Epoch 68, CIFAR-10 Batch 2:  Loss: 0.0007 Validation Accuracy: 0.5974\n",
      "Epoch 68, CIFAR-10 Batch 3:  Loss: 0.0003 Validation Accuracy: 0.5876\n",
      "Epoch 68, CIFAR-10 Batch 4:  Loss: 0.0027 Validation Accuracy: 0.5824\n",
      "Epoch 68, CIFAR-10 Batch 5:  Loss: 0.0042 Validation Accuracy: 0.5840\n",
      "Epoch 69, CIFAR-10 Batch 1:  Loss: 0.0053 Validation Accuracy: 0.5864\n",
      "Epoch 69, CIFAR-10 Batch 2:  Loss: 0.0002 Validation Accuracy: 0.5788\n",
      "Epoch 69, CIFAR-10 Batch 3:  Loss: 0.0014 Validation Accuracy: 0.5856\n",
      "Epoch 69, CIFAR-10 Batch 4:  Loss: 0.0013 Validation Accuracy: 0.5900\n",
      "Epoch 69, CIFAR-10 Batch 5:  Loss: 0.0018 Validation Accuracy: 0.5890\n",
      "Epoch 70, CIFAR-10 Batch 1:  Loss: 0.0011 Validation Accuracy: 0.5884\n",
      "Epoch 70, CIFAR-10 Batch 2:  Loss: 0.0011 Validation Accuracy: 0.5910\n",
      "Epoch 70, CIFAR-10 Batch 3:  Loss: 0.0024 Validation Accuracy: 0.5922\n",
      "Epoch 70, CIFAR-10 Batch 4:  Loss: 0.0011 Validation Accuracy: 0.5904\n",
      "Epoch 70, CIFAR-10 Batch 5:  Loss: 0.0005 Validation Accuracy: 0.5878\n",
      "Epoch 71, CIFAR-10 Batch 1:  Loss: 0.0002 Validation Accuracy: 0.5866\n",
      "Epoch 71, CIFAR-10 Batch 2:  Loss: 0.0004 Validation Accuracy: 0.5952\n",
      "Epoch 71, CIFAR-10 Batch 3:  Loss: 0.0008 Validation Accuracy: 0.5902\n",
      "Epoch 71, CIFAR-10 Batch 4:  Loss: 0.0017 Validation Accuracy: 0.5828\n",
      "Epoch 71, CIFAR-10 Batch 5:  Loss: 0.0003 Validation Accuracy: 0.5858\n",
      "Epoch 72, CIFAR-10 Batch 1:  Loss: 0.0015 Validation Accuracy: 0.5880\n",
      "Epoch 72, CIFAR-10 Batch 2:  Loss: 0.0067 Validation Accuracy: 0.5904\n",
      "Epoch 72, CIFAR-10 Batch 3:  Loss: 0.0034 Validation Accuracy: 0.5940\n",
      "Epoch 72, CIFAR-10 Batch 4:  Loss: 0.0010 Validation Accuracy: 0.5880\n",
      "Epoch 72, CIFAR-10 Batch 5:  Loss: 0.0008 Validation Accuracy: 0.5800\n",
      "Epoch 73, CIFAR-10 Batch 1:  Loss: 0.0068 Validation Accuracy: 0.5930\n",
      "Epoch 73, CIFAR-10 Batch 2:  Loss: 0.0012 Validation Accuracy: 0.5926\n",
      "Epoch 73, CIFAR-10 Batch 3:  Loss: 0.0082 Validation Accuracy: 0.5844\n",
      "Epoch 73, CIFAR-10 Batch 4:  Loss: 0.0012 Validation Accuracy: 0.5864\n",
      "Epoch 73, CIFAR-10 Batch 5:  Loss: 0.0002 Validation Accuracy: 0.5818\n",
      "Epoch 74, CIFAR-10 Batch 1:  Loss: 0.0004 Validation Accuracy: 0.5852\n",
      "Epoch 74, CIFAR-10 Batch 2:  Loss: 0.0023 Validation Accuracy: 0.5856\n",
      "Epoch 74, CIFAR-10 Batch 3:  Loss: 0.0066 Validation Accuracy: 0.5982\n",
      "Epoch 74, CIFAR-10 Batch 4:  Loss: 0.0014 Validation Accuracy: 0.5830\n",
      "Epoch 74, CIFAR-10 Batch 5:  Loss: 0.0018 Validation Accuracy: 0.5944\n",
      "Epoch 75, CIFAR-10 Batch 1:  Loss: 0.0017 Validation Accuracy: 0.5892\n",
      "Epoch 75, CIFAR-10 Batch 2:  Loss: 0.0003 Validation Accuracy: 0.5868\n",
      "Epoch 75, CIFAR-10 Batch 3:  Loss: 0.0086 Validation Accuracy: 0.5914\n",
      "Epoch 75, CIFAR-10 Batch 4:  Loss: 0.0063 Validation Accuracy: 0.5858\n",
      "Epoch 75, CIFAR-10 Batch 5:  Loss: 0.0001 Validation Accuracy: 0.5846\n",
      "Epoch 76, CIFAR-10 Batch 1:  Loss: 0.0002 Validation Accuracy: 0.5812\n",
      "Epoch 76, CIFAR-10 Batch 2:  Loss: 0.0011 Validation Accuracy: 0.5836\n",
      "Epoch 76, CIFAR-10 Batch 3:  Loss: 0.0038 Validation Accuracy: 0.5914\n",
      "Epoch 76, CIFAR-10 Batch 4:  Loss: 0.0008 Validation Accuracy: 0.5914\n",
      "Epoch 76, CIFAR-10 Batch 5:  Loss: 0.0015 Validation Accuracy: 0.5872\n",
      "Epoch 77, CIFAR-10 Batch 1:  Loss: 0.0044 Validation Accuracy: 0.5770\n",
      "Epoch 77, CIFAR-10 Batch 2:  Loss: 0.0002 Validation Accuracy: 0.5848\n",
      "Epoch 77, CIFAR-10 Batch 3:  Loss: 0.0004 Validation Accuracy: 0.5874\n",
      "Epoch 77, CIFAR-10 Batch 4:  Loss: 0.0023 Validation Accuracy: 0.5836\n",
      "Epoch 77, CIFAR-10 Batch 5:  Loss: 0.0043 Validation Accuracy: 0.5912\n",
      "Epoch 78, CIFAR-10 Batch 1:  Loss: 0.0082 Validation Accuracy: 0.5872\n",
      "Epoch 78, CIFAR-10 Batch 2:  Loss: 0.0091 Validation Accuracy: 0.5784\n",
      "Epoch 78, CIFAR-10 Batch 3:  Loss: 0.0092 Validation Accuracy: 0.5834\n",
      "Epoch 78, CIFAR-10 Batch 4:  Loss: 0.0048 Validation Accuracy: 0.5884\n",
      "Epoch 78, CIFAR-10 Batch 5:  Loss: 0.0020 Validation Accuracy: 0.5854\n",
      "Epoch 79, CIFAR-10 Batch 1:  Loss: 0.0002 Validation Accuracy: 0.5860\n",
      "Epoch 79, CIFAR-10 Batch 2:  Loss: 0.0008 Validation Accuracy: 0.5856\n",
      "Epoch 79, CIFAR-10 Batch 3:  Loss: 0.0029 Validation Accuracy: 0.5890\n",
      "Epoch 79, CIFAR-10 Batch 4:  Loss: 0.0019 Validation Accuracy: 0.5886\n",
      "Epoch 79, CIFAR-10 Batch 5:  Loss: 0.0011 Validation Accuracy: 0.5842\n",
      "Epoch 80, CIFAR-10 Batch 1:  Loss: 0.0004 Validation Accuracy: 0.5940\n",
      "Epoch 80, CIFAR-10 Batch 2:  Loss: 0.0002 Validation Accuracy: 0.5858\n",
      "Epoch 80, CIFAR-10 Batch 3:  Loss: 0.0003 Validation Accuracy: 0.5826\n",
      "Epoch 80, CIFAR-10 Batch 4:  Loss: 0.0003 Validation Accuracy: 0.5880\n",
      "Epoch 80, CIFAR-10 Batch 5:  Loss: 0.0130 Validation Accuracy: 0.5888\n",
      "Epoch 81, CIFAR-10 Batch 1:  Loss: 0.0010 Validation Accuracy: 0.5870\n",
      "Epoch 81, CIFAR-10 Batch 2:  Loss: 0.0020 Validation Accuracy: 0.5670\n",
      "Epoch 81, CIFAR-10 Batch 3:  Loss: 0.0009 Validation Accuracy: 0.5874\n",
      "Epoch 81, CIFAR-10 Batch 4:  Loss: 0.0004 Validation Accuracy: 0.5916\n",
      "Epoch 81, CIFAR-10 Batch 5:  Loss: 0.0027 Validation Accuracy: 0.5846\n",
      "Epoch 82, CIFAR-10 Batch 1:  Loss: 0.0041 Validation Accuracy: 0.5806\n",
      "Epoch 82, CIFAR-10 Batch 2:  Loss: 0.0000 Validation Accuracy: 0.5724\n",
      "Epoch 82, CIFAR-10 Batch 3:  Loss: 0.0009 Validation Accuracy: 0.5838\n",
      "Epoch 82, CIFAR-10 Batch 4:  Loss: 0.0343 Validation Accuracy: 0.5814\n",
      "Epoch 82, CIFAR-10 Batch 5:  Loss: 0.0077 Validation Accuracy: 0.5926\n",
      "Epoch 83, CIFAR-10 Batch 1:  Loss: 0.0010 Validation Accuracy: 0.5990\n",
      "Epoch 83, CIFAR-10 Batch 2:  Loss: 0.0008 Validation Accuracy: 0.5846\n",
      "Epoch 83, CIFAR-10 Batch 3:  Loss: 0.0014 Validation Accuracy: 0.5918\n",
      "Epoch 83, CIFAR-10 Batch 4:  Loss: 0.0001 Validation Accuracy: 0.5774\n",
      "Epoch 83, CIFAR-10 Batch 5:  Loss: 0.0061 Validation Accuracy: 0.5804\n",
      "Epoch 84, CIFAR-10 Batch 1:  Loss: 0.0124 Validation Accuracy: 0.5968\n",
      "Epoch 84, CIFAR-10 Batch 2:  Loss: 0.0004 Validation Accuracy: 0.5860\n",
      "Epoch 84, CIFAR-10 Batch 3:  Loss: 0.0001 Validation Accuracy: 0.5820\n",
      "Epoch 84, CIFAR-10 Batch 4:  Loss: 0.0007 Validation Accuracy: 0.5874\n",
      "Epoch 84, CIFAR-10 Batch 5:  Loss: 0.0071 Validation Accuracy: 0.5810\n",
      "Epoch 85, CIFAR-10 Batch 1:  Loss: 0.0034 Validation Accuracy: 0.5842\n",
      "Epoch 85, CIFAR-10 Batch 2:  Loss: 0.0001 Validation Accuracy: 0.5910\n",
      "Epoch 85, CIFAR-10 Batch 3:  Loss: 0.0000 Validation Accuracy: 0.5870\n",
      "Epoch 85, CIFAR-10 Batch 4:  Loss: 0.0002 Validation Accuracy: 0.5830\n",
      "Epoch 85, CIFAR-10 Batch 5:  Loss: 0.0013 Validation Accuracy: 0.5784\n",
      "Epoch 86, CIFAR-10 Batch 1:  Loss: 0.0046 Validation Accuracy: 0.5836\n",
      "Epoch 86, CIFAR-10 Batch 2:  Loss: 0.0023 Validation Accuracy: 0.5694\n",
      "Epoch 86, CIFAR-10 Batch 3:  Loss: 0.0003 Validation Accuracy: 0.5828\n",
      "Epoch 86, CIFAR-10 Batch 4:  Loss: 0.0008 Validation Accuracy: 0.5922\n",
      "Epoch 86, CIFAR-10 Batch 5:  Loss: 0.0009 Validation Accuracy: 0.5836\n",
      "Epoch 87, CIFAR-10 Batch 1:  Loss: 0.0018 Validation Accuracy: 0.5914\n",
      "Epoch 87, CIFAR-10 Batch 2:  Loss: 0.0044 Validation Accuracy: 0.5774\n",
      "Epoch 87, CIFAR-10 Batch 3:  Loss: 0.0001 Validation Accuracy: 0.5878\n",
      "Epoch 87, CIFAR-10 Batch 4:  Loss: 0.0007 Validation Accuracy: 0.5894\n",
      "Epoch 87, CIFAR-10 Batch 5:  Loss: 0.0018 Validation Accuracy: 0.5868\n",
      "Epoch 88, CIFAR-10 Batch 1:  Loss: 0.0006 Validation Accuracy: 0.5862\n",
      "Epoch 88, CIFAR-10 Batch 2:  Loss: 0.0003 Validation Accuracy: 0.5820\n",
      "Epoch 88, CIFAR-10 Batch 3:  Loss: 0.0000 Validation Accuracy: 0.5804\n",
      "Epoch 88, CIFAR-10 Batch 4:  Loss: 0.0010 Validation Accuracy: 0.5840\n",
      "Epoch 88, CIFAR-10 Batch 5:  Loss: 0.0010 Validation Accuracy: 0.5906\n",
      "Epoch 89, CIFAR-10 Batch 1:  Loss: 0.0078 Validation Accuracy: 0.5832\n",
      "Epoch 89, CIFAR-10 Batch 2:  Loss: 0.0032 Validation Accuracy: 0.5772\n",
      "Epoch 89, CIFAR-10 Batch 3:  Loss: 0.0021 Validation Accuracy: 0.5812\n",
      "Epoch 89, CIFAR-10 Batch 4:  Loss: 0.0005 Validation Accuracy: 0.5920\n",
      "Epoch 89, CIFAR-10 Batch 5:  Loss: 0.0069 Validation Accuracy: 0.5826\n",
      "Epoch 90, CIFAR-10 Batch 1:  Loss: 0.0007 Validation Accuracy: 0.5806\n",
      "Epoch 90, CIFAR-10 Batch 2:  Loss: 0.0005 Validation Accuracy: 0.5722\n",
      "Epoch 90, CIFAR-10 Batch 3:  Loss: 0.0063 Validation Accuracy: 0.5954\n",
      "Epoch 90, CIFAR-10 Batch 4:  Loss: 0.0001 Validation Accuracy: 0.5882\n",
      "Epoch 90, CIFAR-10 Batch 5:  Loss: 0.0023 Validation Accuracy: 0.5834\n",
      "Epoch 91, CIFAR-10 Batch 1:  Loss: 0.0038 Validation Accuracy: 0.5892\n",
      "Epoch 91, CIFAR-10 Batch 2:  Loss: 0.0011 Validation Accuracy: 0.5684\n",
      "Epoch 91, CIFAR-10 Batch 3:  Loss: 0.0131 Validation Accuracy: 0.5816\n",
      "Epoch 91, CIFAR-10 Batch 4:  Loss: 0.0003 Validation Accuracy: 0.5744\n",
      "Epoch 91, CIFAR-10 Batch 5:  Loss: 0.0002 Validation Accuracy: 0.5798\n",
      "Epoch 92, CIFAR-10 Batch 1:  Loss: 0.0017 Validation Accuracy: 0.5854\n",
      "Epoch 92, CIFAR-10 Batch 2:  Loss: 0.0001 Validation Accuracy: 0.5916\n",
      "Epoch 92, CIFAR-10 Batch 3:  Loss: 0.0004 Validation Accuracy: 0.5820\n",
      "Epoch 92, CIFAR-10 Batch 4:  Loss: 0.0015 Validation Accuracy: 0.5792\n",
      "Epoch 92, CIFAR-10 Batch 5:  Loss: 0.0004 Validation Accuracy: 0.5786\n",
      "Epoch 93, CIFAR-10 Batch 1:  Loss: 0.0001 Validation Accuracy: 0.5868\n",
      "Epoch 93, CIFAR-10 Batch 2:  Loss: 0.0003 Validation Accuracy: 0.5822\n",
      "Epoch 93, CIFAR-10 Batch 3:  Loss: 0.0008 Validation Accuracy: 0.5920\n",
      "Epoch 93, CIFAR-10 Batch 4:  Loss: 0.0002 Validation Accuracy: 0.5872\n",
      "Epoch 93, CIFAR-10 Batch 5:  Loss: 0.0015 Validation Accuracy: 0.5772\n",
      "Epoch 94, CIFAR-10 Batch 1:  Loss: 0.0000 Validation Accuracy: 0.5780\n",
      "Epoch 94, CIFAR-10 Batch 2:  Loss: 0.0083 Validation Accuracy: 0.5844\n",
      "Epoch 94, CIFAR-10 Batch 3:  Loss: 0.0079 Validation Accuracy: 0.5858\n",
      "Epoch 94, CIFAR-10 Batch 4:  Loss: 0.0006 Validation Accuracy: 0.5712\n",
      "Epoch 94, CIFAR-10 Batch 5:  Loss: 0.0001 Validation Accuracy: 0.5776\n",
      "Epoch 95, CIFAR-10 Batch 1:  Loss: 0.0398 Validation Accuracy: 0.5842\n",
      "Epoch 95, CIFAR-10 Batch 2:  Loss: 0.0009 Validation Accuracy: 0.5832\n",
      "Epoch 95, CIFAR-10 Batch 3:  Loss: 0.0026 Validation Accuracy: 0.5932\n",
      "Epoch 95, CIFAR-10 Batch 4:  Loss: 0.0080 Validation Accuracy: 0.5782\n",
      "Epoch 95, CIFAR-10 Batch 5:  Loss: 0.0016 Validation Accuracy: 0.5858\n",
      "Epoch 96, CIFAR-10 Batch 1:  Loss: 0.0040 Validation Accuracy: 0.5850\n",
      "Epoch 96, CIFAR-10 Batch 2:  Loss: 0.0055 Validation Accuracy: 0.5808\n",
      "Epoch 96, CIFAR-10 Batch 3:  Loss: 0.0017 Validation Accuracy: 0.5888\n",
      "Epoch 96, CIFAR-10 Batch 4:  Loss: 0.0026 Validation Accuracy: 0.5926\n",
      "Epoch 96, CIFAR-10 Batch 5:  Loss: 0.0000 Validation Accuracy: 0.5924\n",
      "Epoch 97, CIFAR-10 Batch 1:  Loss: 0.0000 Validation Accuracy: 0.6022\n",
      "Epoch 97, CIFAR-10 Batch 2:  Loss: 0.0001 Validation Accuracy: 0.5872\n",
      "Epoch 97, CIFAR-10 Batch 3:  Loss: 0.0001 Validation Accuracy: 0.5878\n",
      "Epoch 97, CIFAR-10 Batch 4:  Loss: 0.0003 Validation Accuracy: 0.5866\n",
      "Epoch 97, CIFAR-10 Batch 5:  Loss: 0.0044 Validation Accuracy: 0.5810\n",
      "Epoch 98, CIFAR-10 Batch 1:  Loss: 0.0028 Validation Accuracy: 0.5806\n",
      "Epoch 98, CIFAR-10 Batch 2:  Loss: 0.0002 Validation Accuracy: 0.5810\n",
      "Epoch 98, CIFAR-10 Batch 3:  Loss: 0.0008 Validation Accuracy: 0.5820\n",
      "Epoch 98, CIFAR-10 Batch 4:  Loss: 0.0018 Validation Accuracy: 0.5764\n",
      "Epoch 98, CIFAR-10 Batch 5:  Loss: 0.0004 Validation Accuracy: 0.5878\n",
      "Epoch 99, CIFAR-10 Batch 1:  Loss: 0.0021 Validation Accuracy: 0.5868\n",
      "Epoch 99, CIFAR-10 Batch 2:  Loss: 0.0139 Validation Accuracy: 0.5868\n",
      "Epoch 99, CIFAR-10 Batch 3:  Loss: 0.0010 Validation Accuracy: 0.5942\n",
      "Epoch 99, CIFAR-10 Batch 4:  Loss: 0.0003 Validation Accuracy: 0.5908\n",
      "Epoch 99, CIFAR-10 Batch 5:  Loss: 0.0057 Validation Accuracy: 0.5810\n",
      "Epoch 100, CIFAR-10 Batch 1:  Loss: 0.0005 Validation Accuracy: 0.5814\n",
      "Epoch 100, CIFAR-10 Batch 2:  Loss: 0.0012 Validation Accuracy: 0.5868\n",
      "Epoch 100, CIFAR-10 Batch 3:  Loss: 0.0012 Validation Accuracy: 0.5956\n",
      "Epoch 100, CIFAR-10 Batch 4:  Loss: 0.0009 Validation Accuracy: 0.5776\n",
      "Epoch 100, CIFAR-10 Batch 5:  Loss: 0.0045 Validation Accuracy: 0.5832\n"
     ]
    }
   ],
   "source": [
    "\"\"\"\n",
    "DON'T MODIFY ANYTHING IN THIS CELL\n",
    "\"\"\"\n",
    "save_model_path = './image_classification'\n",
    "\n",
    "print('Training...')\n",
    "with tf.Session() as sess:\n",
    "    # Initializing the variables\n",
    "    sess.run(tf.global_variables_initializer())\n",
    "    \n",
    "    # Training cycle\n",
    "    for epoch in range(epochs):\n",
    "        # Loop over all batches\n",
    "        n_batches = 5\n",
    "        for batch_i in range(1, n_batches + 1):\n",
    "            for batch_features, batch_labels in helper.load_preprocess_training_batch(batch_i, batch_size):\n",
    "                train_neural_network(sess, optimizer, keep_probability, batch_features, batch_labels)\n",
    "            print('Epoch {:>2}, CIFAR-10 Batch {}:  '.format(epoch + 1, batch_i), end='')\n",
    "            print_stats(sess, batch_features, batch_labels, cost, accuracy)\n",
    "            \n",
    "    # Save Model\n",
    "    saver = tf.train.Saver()\n",
    "    save_path = saver.save(sess, save_model_path)"
   ]
  },
  {
   "cell_type": "markdown",
   "metadata": {
    "deletable": true,
    "editable": true
   },
   "source": [
    "# Checkpoint\n",
    "The model has been saved to disk.\n",
    "## Test Model\n",
    "Test your model against the test dataset.  This will be your final accuracy. You should have an accuracy greater than 50%. If you don't, keep tweaking the model architecture and parameters."
   ]
  },
  {
   "cell_type": "code",
   "execution_count": 106,
   "metadata": {
    "collapsed": false,
    "deletable": true,
    "editable": true
   },
   "outputs": [
    {
     "name": "stdout",
     "output_type": "stream",
     "text": [
      "Testing Accuracy: 0.581190664556962\n",
      "\n"
     ]
    },
    {
     "data": {
      "image/png": "[encoded data removed]",
      "text/plain": [
       "<matplotlib.figure.Figure at 0x7fa8efe4be10>"
      ]
     },
     "metadata": {
      "image/png": {
       "height": 319,
       "width": 355
      }
     },
     "output_type": "display_data"
    }
   ],
   "source": [
    "\"\"\"\n",
    "DON'T MODIFY ANYTHING IN THIS CELL\n",
    "\"\"\"\n",
    "%matplotlib inline\n",
    "%config InlineBackend.figure_format = 'retina'\n",
    "\n",
    "import tensorflow as tf\n",
    "import pickle\n",
    "import helper\n",
    "import random\n",
    "\n",
    "# Set batch size if not already set\n",
    "try:\n",
    "    if batch_size:\n",
    "        pass\n",
    "except NameError:\n",
    "    batch_size = 64\n",
    "\n",
    "save_model_path = './image_classification'\n",
    "n_samples = 4\n",
    "top_n_predictions = 3\n",
    "\n",
    "def test_model():\n",
    "    \"\"\"\n",
    "    Test the saved model against the test dataset\n",
    "    \"\"\"\n",
    "\n",
    "    test_features, test_labels = pickle.load(open('preprocess_training.p', mode='rb'))\n",
    "    loaded_graph = tf.Graph()\n",
    "\n",
    "    with tf.Session(graph=loaded_graph) as sess:\n",
    "        # Load model\n",
    "        loader = tf.train.import_meta_graph(save_model_path + '.meta')\n",
    "        loader.restore(sess, save_model_path)\n",
    "\n",
    "        # Get Tensors from loaded model\n",
    "        loaded_x = loaded_graph.get_tensor_by_name('x:0')\n",
    "        loaded_y = loaded_graph.get_tensor_by_name('y:0')\n",
    "        loaded_keep_prob = loaded_graph.get_tensor_by_name('keep_prob:0')\n",
    "        loaded_logits = loaded_graph.get_tensor_by_name('logits:0')\n",
    "        loaded_acc = loaded_graph.get_tensor_by_name('accuracy:0')\n",
    "        \n",
    "        # Get accuracy in batches for memory limitations\n",
    "        test_batch_acc_total = 0\n",
    "        test_batch_count = 0\n",
    "        \n",
    "        for train_feature_batch, train_label_batch in helper.batch_features_labels(test_features, test_labels, batch_size):\n",
    "            test_batch_acc_total += sess.run(\n",
    "                loaded_acc,\n",
    "                feed_dict={loaded_x: train_feature_batch, loaded_y: train_label_batch, loaded_keep_prob: 1.0})\n",
    "            test_batch_count += 1\n",
    "\n",
    "        print('Testing Accuracy: {}\\n'.format(test_batch_acc_total/test_batch_count))\n",
    "\n",
    "        # Print Random Samples\n",
    "        random_test_features, random_test_labels = tuple(zip(*random.sample(list(zip(test_features, test_labels)), n_samples)))\n",
    "        random_test_predictions = sess.run(\n",
    "            tf.nn.top_k(tf.nn.softmax(loaded_logits), top_n_predictions),\n",
    "            feed_dict={loaded_x: random_test_features, loaded_y: random_test_labels, loaded_keep_prob: 1.0})\n",
    "        helper.display_image_predictions(random_test_features, random_test_labels, random_test_predictions)\n",
    "\n",
    "\n",
    "test_model()"
   ]
  },
  {
   "cell_type": "markdown",
   "metadata": {
    "deletable": true,
    "editable": true
   },
   "source": [
    "## Why 50-70% Accuracy?\n",
    "You might be wondering why you can't get an accuracy any higher. First things first, 50% isn't bad for a simple CNN.  Pure guessing would get you 10% accuracy. However, you might notice people are getting scores [well above 70%](http://rodrigob.github.io/are_we_there_yet/build/classification_datasets_results.html#43494641522d3130).  That's because we haven't taught you all there is to know about neural networks. We still need to cover a few more techniques.\n",
    "## Submitting This Project\n",
    "When submitting this project, make sure to run all the cells before saving the notebook.  Save the notebook file as \"dlnd_image_classification.ipynb\" and save it as a HTML file under \"File\" -> \"Download as\".  Include the \"helper.py\" and \"problem_unittests.py\" files in your submission."
   ]
  },
  {
   "cell_type": "code",
   "execution_count": null,
   "metadata": {
    "collapsed": true
   },
   "outputs": [],
   "source": []
  }
 ],
 "metadata": {
  "anaconda-cloud": {},
  "kernelspec": {
   "display_name": "Python 3",
   "language": "python",
   "name": "python3"
  },
  "language_info": {
   "codemirror_mode": {
    "name": "ipython",
    "version": 3
   },
   "file_extension": ".py",
   "mimetype": "text/x-python",
   "name": "python",
   "nbconvert_exporter": "python",
   "pygments_lexer": "ipython3",
   "version": "3.5.2"
  },
  "widgets": {
   "state": {},
   "version": "1.1.2"
  }
 },
 "nbformat": 4,
 "nbformat_minor": 0
}
